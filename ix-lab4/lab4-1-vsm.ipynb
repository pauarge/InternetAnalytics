{
 "cells": [
  {
   "cell_type": "markdown",
   "metadata": {},
   "source": [
    "# Text 1: Vector space models\n",
    "**Internet Analytics - Lab 4**\n",
    "\n",
    "---\n",
    "\n",
    "**Group:** *O*\n",
    "\n",
    "**Names:**\n",
    "\n",
    "* *Argelaguet Franquelo, Pau*\n",
    "* *du Bois de Dunilac, Vivien*\n",
    "\n",
    "---\n",
    "\n",
    "#### Instructions\n",
    "\n",
    "*This is a template for part 1 of the lab. Clearly write your answers, comments and interpretations in Markodown cells. Don't forget that you can add $\\LaTeX$ equations in these cells. Feel free to add or remove any cell.*\n",
    "\n",
    "*Please properly comment your code. Code readability will be considered for grading. To avoid long cells of codes in the notebook, you can also embed long python functions and classes in a separate module. Don’t forget to hand in your module if that is the case. In multiple exercises, you are required to come up with your own method to solve various problems. Be creative and clearly motivate and explain your methods. Creativity and clarity will be considered for grading.*"
   ]
  },
  {
   "cell_type": "code",
   "execution_count": 1,
   "metadata": {},
   "outputs": [],
   "source": [
    "import pickle\n",
    "import numpy as np\n",
    "import string\n",
    "import collections\n",
    "import operator\n",
    "import math\n",
    "\n",
    "from functools import reduce\n",
    "from scipy.sparse import csr_matrix\n",
    "from utils import load_json, load_pkl\n",
    "\n",
    "from nltk.stem import SnowballStemmer"
   ]
  },
  {
   "cell_type": "code",
   "execution_count": 2,
   "metadata": {},
   "outputs": [],
   "source": [
    "courses = load_json('data/courses.txt')\n",
    "stopwords = load_pkl('data/stopwords.pkl')"
   ]
  },
  {
   "cell_type": "markdown",
   "metadata": {},
   "source": [
    "## Exercise 4.1: Pre-processing"
   ]
  },
  {
   "cell_type": "code",
   "execution_count": 3,
   "metadata": {},
   "outputs": [],
   "source": [
    "stemmer = SnowballStemmer(\"english\")"
   ]
  },
  {
   "cell_type": "code",
   "execution_count": 4,
   "metadata": {},
   "outputs": [],
   "source": [
    "def is_number(s):\n",
    "    try:\n",
    "        float(s)\n",
    "        return True\n",
    "    except ValueError:\n",
    "        return False\n",
    "\n",
    "def filter_word(word):\n",
    "    # Removing words in stopwords\n",
    "    if word in stopwords:\n",
    "        return False\n",
    "    # Removing words consisting of a punctuation sign\n",
    "    if word in string.punctuation:\n",
    "        return False\n",
    "    # Removing numbers\n",
    "    if is_number(word):\n",
    "        return False\n",
    "    return True\n",
    "\n",
    "\n",
    "def clean_word(word):\n",
    "    # Removing punctuation signs from word\n",
    "    word = \"\".join(c for c in word if c not in string.punctuation)\n",
    "    # Transforming word to lowercase\n",
    "    word = word.lower()\n",
    "    # Stemming\n",
    "    word = stemmer.stem(word)\n",
    "    return word\n",
    "    \n",
    "\n",
    "def get_bag_of_words(text):\n",
    "    words = filter(filter_word, map(clean_word, text.split()))\n",
    "    bow = collections.defaultdict(int)\n",
    "    for w in words:\n",
    "        bow[w] += 1\n",
    "    \n",
    "    # Removing less frequent words\n",
    "    bow = {k: v for k, v in bow.items() if v > 1}\n",
    "            \n",
    "    return dict(collections.OrderedDict(sorted(bow.items())))"
   ]
  },
  {
   "cell_type": "code",
   "execution_count": 5,
   "metadata": {},
   "outputs": [],
   "source": [
    "dat = {\n",
    "    x.get('courseId'): {\n",
    "        'name': x.get('name'),\n",
    "        'description': get_bag_of_words(x.get('description'))\n",
    "    } for x in courses\n",
    "}"
   ]
  },
  {
   "cell_type": "code",
   "execution_count": 6,
   "metadata": {},
   "outputs": [],
   "source": [
    "list_terms = list(x.get('description') for x in dat.values())\n",
    "\n",
    "terms = collections.defaultdict(int)\n",
    "for l in list_terms:\n",
    "    for k, v in l.items():\n",
    "        terms[k] += v\n",
    "            \n",
    "terms = dict(collections.OrderedDict(sorted(terms.items(), key=operator.itemgetter(1), reverse=True)))\n",
    "top_terms = list({k: v for k, v in terms.items() if v > 400}.keys())\n",
    "low_terms = list({k: v for k, v in terms.items() if v < 3}.keys())"
   ]
  },
  {
   "cell_type": "code",
   "execution_count": 7,
   "metadata": {},
   "outputs": [],
   "source": [
    "for k, v in dat.items():\n",
    "    dat[k]['description'] = {x: y for x, y in v.get('description').items() if x not in top_terms}\n",
    "    \n",
    "# Ensuring all documents have description\n",
    "dat = {k: v for k, v in dat.items() if len(v.get('description')) > 0}"
   ]
  },
  {
   "cell_type": "code",
   "execution_count": 8,
   "metadata": {},
   "outputs": [
    {
     "data": {
      "text/plain": [
       "{'ad': 2,\n",
       " 'algebra': 2,\n",
       " 'algorithm': 2,\n",
       " 'analyt': 2,\n",
       " 'applic': 2,\n",
       " 'auction': 2,\n",
       " 'base': 2,\n",
       " 'class': 3,\n",
       " 'cluster': 2,\n",
       " 'communiti': 2,\n",
       " 'comput': 2,\n",
       " 'data': 6,\n",
       " 'dataset': 2,\n",
       " 'detect': 2,\n",
       " 'ecommerc': 2,\n",
       " 'explor': 5,\n",
       " 'graph': 2,\n",
       " 'hadoop': 2,\n",
       " 'homework': 2,\n",
       " 'inform': 2,\n",
       " 'internet': 2,\n",
       " 'lab': 3,\n",
       " 'largescal': 3,\n",
       " 'linear': 2,\n",
       " 'machin': 2,\n",
       " 'mine': 3,\n",
       " 'network': 4,\n",
       " 'number': 2,\n",
       " 'onlin': 5,\n",
       " 'practic': 2,\n",
       " 'problem': 2,\n",
       " 'realworld': 4,\n",
       " 'recommend': 3,\n",
       " 'relat': 2,\n",
       " 'servic': 3,\n",
       " 'session': 2,\n",
       " 'social': 5,\n",
       " 'stream': 2}"
      ]
     },
     "execution_count": 8,
     "metadata": {},
     "output_type": "execute_result"
    }
   ],
   "source": [
    "dat['COM-308']['description']"
   ]
  },
  {
   "cell_type": "code",
   "execution_count": 9,
   "metadata": {},
   "outputs": [],
   "source": [
    "with open(\"data/preprocess.pckl\", \"wb\") as f:\n",
    "    pickle.dump(dat, f)"
   ]
  },
  {
   "cell_type": "markdown",
   "metadata": {},
   "source": [
    "## Exercise 4.2: Term-document matrix"
   ]
  },
  {
   "cell_type": "code",
   "execution_count": 10,
   "metadata": {},
   "outputs": [],
   "source": [
    "list_terms = [list(x.get('description').keys()) for x in dat.values()]\n",
    "\n",
    "terms = set()\n",
    "for l in list_terms:\n",
    "    terms = terms.union(set(l))\n",
    "terms = sorted(terms)"
   ]
  },
  {
   "cell_type": "code",
   "execution_count": 11,
   "metadata": {},
   "outputs": [],
   "source": [
    "documents = sorted(list(dat.keys()))"
   ]
  },
  {
   "cell_type": "code",
   "execution_count": 12,
   "metadata": {},
   "outputs": [],
   "source": [
    "M = len(terms)\n",
    "N = len(documents)\n",
    "\n",
    "term_idx = {x: terms.index(x) for x in terms}\n",
    "doc_idx = {x: documents.index(x) for x in documents}"
   ]
  },
  {
   "cell_type": "code",
   "execution_count": 13,
   "metadata": {},
   "outputs": [],
   "source": [
    "values = []\n",
    "rows = []\n",
    "columns = []"
   ]
  },
  {
   "cell_type": "code",
   "execution_count": 14,
   "metadata": {},
   "outputs": [],
   "source": [
    "occs = collections.defaultdict(float)\n",
    "for k, v in dat.items():\n",
    "    for x in v.get('description').keys():\n",
    "        occs[x] += 1\n",
    "idf = {k: math.log(N/v) for k, v in occs.items()}"
   ]
  },
  {
   "cell_type": "code",
   "execution_count": 18,
   "metadata": {},
   "outputs": [],
   "source": [
    "for k, v in dat.items():\n",
    "    d = v.get('description')\n",
    "    max_occur = float(max(d.values()))\n",
    "    for x, y in d.items():\n",
    "        tf = y / max_occur\n",
    "        tfidf = tf * idf[x]\n",
    "        values.append(tfidf)\n",
    "        rows.append(term_idx[x])\n",
    "        columns.append(doc_idx[k])"
   ]
  },
  {
   "cell_type": "code",
   "execution_count": 19,
   "metadata": {},
   "outputs": [],
   "source": [
    "mat = csr_matrix((values, (rows, columns)), shape=(M, N))"
   ]
  },
  {
   "cell_type": "code",
   "execution_count": 33,
   "metadata": {},
   "outputs": [
    {
     "name": "stdout",
     "output_type": "stream",
     "text": [
      "  (61, 0)\t5.634789603169249\n",
      "  (114, 0)\t3.3322045101752034\n",
      "  (115, 0)\t2.6729588812909397\n",
      "  (140, 0)\t3.900188547781143\n",
      "  (180, 0)\t1.8355620918864477\n",
      "  (242, 0)\t6.733401891837359\n",
      "  (291, 0)\t2.883254290127301\n",
      "  (577, 0)\t3.6440051979497845\n",
      "  (591, 0)\t5.123963979403259\n",
      "  (628, 0)\t5.3471075307174685\n",
      "  (651, 0)\t2.1484344131667874\n",
      "  (806, 0)\t6.667627155961528\n",
      "  (810, 0)\t5.3471075307174685\n",
      "  (869, 0)\t3.8430301339411947\n",
      "  (991, 0)\t6.733401891837359\n",
      "  (1159, 0)\t10.421131335939558\n",
      "  (1385, 0)\t4.168452534375823\n",
      "  (1417, 0)\t6.733401891837359\n",
      "  (1493, 0)\t3.3661060618508847\n",
      "  (1616, 0)\t2.6729588812909397\n",
      "  (1666, 0)\t5.634789603169249\n",
      "  (1774, 0)\t4.9983067652628055\n",
      "  (1800, 0)\t6.980940525236285\n",
      "  (1866, 0)\t2.690350624002809\n",
      "  (1924, 0)\t3.43756502583303\n",
      "  (2071, 0)\t8.020661296076202\n",
      "  (2219, 0)\t5.898424515838196\n",
      "  (2285, 0)\t4.0943445622221\n",
      "  (2320, 0)\t11.968729356955116\n",
      "  (2577, 0)\t2.3513752571634776\n",
      "  (2616, 0)\t1.9627172673716942\n",
      "  (2730, 0)\t10.247927958806518\n",
      "  (2743, 0)\t5.271789100453738\n",
      "  (2777, 0)\t2.883254290127301\n",
      "  (2973, 0)\t6.64622519826497\n",
      "  (2975, 0)\t2.904760495348264\n",
      "  (3051, 0)\t10.421131335939558\n",
      "  (3166, 0)\t5.123963979403259\n"
     ]
    }
   ],
   "source": [
    "print(mat[:,doc_idx['COM-308']])"
   ]
  },
  {
   "cell_type": "markdown",
   "metadata": {},
   "source": [
    "## Exercise 4.3: Document similarity search"
   ]
  },
  {
   "cell_type": "code",
   "execution_count": null,
   "metadata": {},
   "outputs": [],
   "source": []
  }
 ],
 "metadata": {
  "kernelspec": {
   "display_name": "Python 3",
   "language": "python",
   "name": "python3"
  },
  "language_info": {
   "codemirror_mode": {
    "name": "ipython",
    "version": 3
   },
   "file_extension": ".py",
   "mimetype": "text/x-python",
   "name": "python",
   "nbconvert_exporter": "python",
   "pygments_lexer": "ipython3",
   "version": "3.6.5"
  }
 },
 "nbformat": 4,
 "nbformat_minor": 2
}
