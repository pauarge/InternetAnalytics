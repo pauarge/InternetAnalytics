{
 "cells": [
  {
   "cell_type": "markdown",
   "metadata": {},
   "source": [
    "# Networks: structure, evolution & processes\n",
    "**Internet Analytics - Lab 2**\n",
    "\n",
    "---\n",
    "\n",
    "**Group:** *O.*\n",
    "\n",
    "**Names:**\n",
    "\n",
    "* *Argelaguet Franquelo, Pau*\n",
    "* *du Bois de Dunilac, Vivien*\n",
    "\n",
    "---\n",
    "\n",
    "#### Instructions\n",
    "\n",
    "*This is a template for part 4 of the lab. Clearly write your answers, comments and interpretations in Markodown cells. Don't forget that you can add $\\LaTeX$ equations in these cells. Feel free to add or remove any cell.*\n",
    "\n",
    "*Please properly comment your code. Code readability will be considered for grading. To avoid long cells of codes in the notebook, you can also embed long python functions and classes in a separate module. Don’t forget to hand in your module if that is the case. In multiple exercises, you are required to come up with your own method to solve various problems. Be creative and clearly motivate and explain your methods. Creativity and clarity will be considered for grading.*"
   ]
  },
  {
   "cell_type": "code",
   "execution_count": 1,
   "metadata": {
    "collapsed": true
   },
   "outputs": [],
   "source": [
    "%matplotlib inline\n",
    "import networkx as nx\n",
    "from networkx.readwrite import json_graph\n",
    "import matplotlib.pyplot as plt\n",
    "import collections\n",
    "import operator\n",
    "import random\n",
    "import numpy as np\n",
    "import json\n",
    "from random import choice\n",
    "import epidemics_helper"
   ]
  },
  {
   "cell_type": "markdown",
   "metadata": {},
   "source": [
    "---\n",
    "\n",
    "## 2.4 PageRank\n",
    "\n",
    "### 2.4.1 Random Surfer Model\n",
    "\n",
    "#### Exercise 2.12"
   ]
  },
  {
   "cell_type": "code",
   "execution_count": 2,
   "metadata": {
    "collapsed": true
   },
   "outputs": [],
   "source": [
    "def random_walk(G, n_steps):\n",
    "    r_dict = {}\n",
    "    for n in G.nodes():\n",
    "        r_dict[n] = 0\n",
    "    current_node = choice(list(G.nodes()))\n",
    "    r_dict[current_node] = r_dict.get(current_node, 0)+1\n",
    "    for i in range(n_steps - 1):\n",
    "        if(len(G[current_node]) > 0):\n",
    "            current_node = choice(list(G[current_node]))\n",
    "        r_dict[current_node] = r_dict.get(current_node, 0)+1\n",
    "        \n",
    "    for k, v in r_dict.items():\n",
    "        r_dict[k] = v/n_steps\n",
    "        \n",
    "    return r_dict"
   ]
  },
  {
   "cell_type": "code",
   "execution_count": 3,
   "metadata": {},
   "outputs": [
    {
     "name": "stdout",
     "output_type": "stream",
     "text": [
      "{0: 0.0001, 1: 0.9997, 4: 0.0, 2: 0.0001, 3: 0.0001}\n"
     ]
    }
   ],
   "source": [
    "graph_abs = nx.read_adjlist(\"../data/absorbing.graph\", nodetype=int, create_using=nx.DiGraph())\n",
    "print(random_walk(graph_abs, 10000))"
   ]
  },
  {
   "cell_type": "code",
   "execution_count": 4,
   "metadata": {},
   "outputs": [
    {
     "data": {
      "image/png": "[encoded data removed]",
      "text/plain": [
       "<matplotlib.figure.Figure at 0x7f4bab8823c8>"
      ]
     },
     "metadata": {},
     "output_type": "display_data"
    }
   ],
   "source": [
    "nx.draw_networkx(graph_abs)"
   ]
  },
  {
   "cell_type": "markdown",
   "metadata": {},
   "source": [
    "The simple random walker fails on this graph because node 1 has no outgoing edges. Once the walker reaches it, it becomes\n",
    "stuck and only increases its score."
   ]
  },
  {
   "cell_type": "code",
   "execution_count": 5,
   "metadata": {},
   "outputs": [
    {
     "name": "stdout",
     "output_type": "stream",
     "text": [
      "{0: 0.0, 1: 0.0, 2: 0.0, 3: 0.0, 4: 0.2848, 5: 0.1456, 6: 0.2848, 7: 0.2848}\n"
     ]
    }
   ],
   "source": [
    "graph_comp = nx.read_adjlist(\"../data/components.graph\", nodetype=int, create_using=nx.DiGraph())\n",
    "print(random_walk(graph_comp, 10000))"
   ]
  },
  {
   "cell_type": "code",
   "execution_count": 6,
   "metadata": {},
   "outputs": [
    {
     "data": {
      "image/png": "[encoded data removed]",
      "text/plain": [
       "<matplotlib.figure.Figure at 0x7f4ba39cf3c8>"
      ]
     },
     "metadata": {},
     "output_type": "display_data"
    }
   ],
   "source": [
    "nx.draw_networkx(graph_comp)"
   ]
  },
  {
   "cell_type": "markdown",
   "metadata": {},
   "source": [
    "The simple random walker fails on this graph because it contains two disjoint subgraphs and the walker will never\n",
    "change from one to the other. This means that the score of one the subgraphs will always be 0."
   ]
  },
  {
   "cell_type": "markdown",
   "metadata": {},
   "source": [
    "#### Exercise 2.13"
   ]
  },
  {
   "cell_type": "code",
   "execution_count": 7,
   "metadata": {
    "collapsed": true
   },
   "outputs": [],
   "source": [
    "def modified_walk(G, n_steps, jump_thresh):\n",
    "    r_dict = {}\n",
    "    for n in G.nodes():\n",
    "        r_dict[n] = 0\n",
    "    current_node = choice(list(G.nodes()))\n",
    "    r_dict[current_node] = r_dict.get(current_node, 0)+1\n",
    "    for i in range(n_steps - 1):\n",
    "        if(len(G[current_node]) > 0):\n",
    "            current_node = choice(list(G[current_node]))\n",
    "        else:\n",
    "            current_node = choice(list(G.nodes()))\n",
    "            \n",
    "        if(random.randint(0, 100) > jump_thresh):\n",
    "            current_node = choice(list(G.nodes()))\n",
    "        r_dict[current_node] = r_dict.get(current_node, 0)+1\n",
    "        \n",
    "    for k, v in r_dict.items():\n",
    "        r_dict[k] = v/n_steps\n",
    "        \n",
    "    return r_dict"
   ]
  },
  {
   "cell_type": "code",
   "execution_count": 8,
   "metadata": {},
   "outputs": [
    {
     "name": "stdout",
     "output_type": "stream",
     "text": [
      "{0: 0.1812, 1: 0.2299, 4: 0.1928, 2: 0.182, 3: 0.2141}\n"
     ]
    }
   ],
   "source": [
    "graph_abs = nx.read_adjlist(\"../data/absorbing.graph\", nodetype=int, create_using=nx.DiGraph())\n",
    "print(modified_walk(graph_abs, 10000, 15))"
   ]
  },
  {
   "cell_type": "code",
   "execution_count": 9,
   "metadata": {},
   "outputs": [
    {
     "name": "stdout",
     "output_type": "stream",
     "text": [
      "{0: 0.1304, 1: 0.1246, 2: 0.1281, 3: 0.1162, 4: 0.1244, 5: 0.1178, 6: 0.1352, 7: 0.1233}\n"
     ]
    }
   ],
   "source": [
    "graph_comp = nx.read_adjlist(\"../data/components.graph\", nodetype=int, create_using=nx.DiGraph())\n",
    "print(modified_walk(graph_comp, 10000, 15))"
   ]
  },
  {
   "cell_type": "markdown",
   "metadata": {},
   "source": [
    "---\n",
    "\n",
    "### 2.4.2 Power Iteration Method\n",
    "\n",
    "#### Exercise 2.14: Power Iteration method"
   ]
  },
  {
   "cell_type": "code",
   "execution_count": 10,
   "metadata": {
    "collapsed": true
   },
   "outputs": [],
   "source": [
    "def power_iteration(G, n_steps, theta):\n",
    "    n = G.number_of_nodes()\n",
    "    H = np.zeros((n, n))\n",
    "    for i in range(n):\n",
    "        if(len(G[i]) > 0):\n",
    "            H[i] = np.ones(n) * ((1-theta)/n)\n",
    "            for node in G[i]:\n",
    "                H[i,node] += theta/len(G[i])\n",
    "        else:\n",
    "            H[i] = np.ones(n) * (1/n)\n",
    "    \n",
    "    dist = np.ones(n) * (1/n)\n",
    "    for i in range(n_steps):\n",
    "        dist = dist @ H\n",
    "        \n",
    "    return dist"
   ]
  },
  {
   "cell_type": "code",
   "execution_count": 11,
   "metadata": {},
   "outputs": [
    {
     "name": "stdout",
     "output_type": "stream",
     "text": [
      "[ 0.12619764  0.12517965  0.13298424  0.11563847  0.12517965  0.11563847\n",
      "  0.13298424  0.12619764]\n"
     ]
    }
   ],
   "source": [
    "print(power_iteration(graph_comp, 100, 0.15))"
   ]
  },
  {
   "cell_type": "code",
   "execution_count": 12,
   "metadata": {},
   "outputs": [
    {
     "name": "stdout",
     "output_type": "stream",
     "text": [
      "[ 0.18714284  0.22981809  0.18714284  0.20496597  0.19093026]\n"
     ]
    }
   ],
   "source": [
    "print(power_iteration(graph_abs, 100, 0.15))"
   ]
  },
  {
   "cell_type": "code",
   "execution_count": 13,
   "metadata": {},
   "outputs": [
    {
     "name": "stdout",
     "output_type": "stream",
     "text": [
      "(5540,)\n"
     ]
    }
   ],
   "source": [
    "graph_wiki = nx.read_adjlist(\"../data/wikipedia.graph\", nodetype=int, create_using=nx.DiGraph())\n",
    "a = power_iteration(graph_wiki, 100, 0.15)\n",
    "print(a.shape)"
   ]
  },
  {
   "cell_type": "code",
   "execution_count": 14,
   "metadata": {},
   "outputs": [
    {
     "name": "stdout",
     "output_type": "stream",
     "text": [
      "[5210 5201 1811 ..., 5079 3892 3636]\n"
     ]
    }
   ],
   "source": [
    "idx = (-a).argsort()\n",
    "print(idx)"
   ]
  },
  {
   "cell_type": "code",
   "execution_count": 15,
   "metadata": {
    "collapsed": true
   },
   "outputs": [],
   "source": [
    "def import_tsv(filename):\n",
    "    d={}\n",
    "    with open(filename, errors='ignore') as f:\n",
    "        c = 0\n",
    "        for line in f:\n",
    "            if(c > 0):\n",
    "                (key, value)=line.split('\\t')\n",
    "                d[int(key)]=value\n",
    "            c += 1\n",
    "    return d"
   ]
  },
  {
   "cell_type": "code",
   "execution_count": 16,
   "metadata": {},
   "outputs": [
    {
     "name": "stdout",
     "output_type": "stream",
     "text": [
      "1 United States\n",
      " 0.00184639029016\n",
      "2 United Kingdom\n",
      " 0.00129924055816\n",
      "3 England\n",
      " 0.00116543729941\n",
      "4 France\n",
      " 0.00107661033528\n",
      "5 Europe\n",
      " 0.00104183672692\n",
      "6 Biological classification\n",
      " 0.000983248347936\n",
      "7 Animal\n",
      " 0.000893541510012\n",
      "8 World War II\n",
      " 0.000860589469664\n",
      "9 London\n",
      " 0.000847525595923\n",
      "10 Germany\n",
      " 0.00084639427413\n"
     ]
    }
   ],
   "source": [
    "pages = import_tsv(\"../data/wikipedia_titles.tsv\")\n",
    "rank = 1\n",
    "for i in idx[:10]:\n",
    "    print(rank, pages[i], a[i])\n",
    "    rank += 1"
   ]
  },
  {
   "cell_type": "markdown",
   "metadata": {},
   "source": [
    "---\n",
    "\n",
    "### 2.4.3 Gaming the system *(Bonus)*\n",
    "\n",
    "#### Exercise 2.15 *(Bonus)*"
   ]
  },
  {
   "cell_type": "code",
   "execution_count": 17,
   "metadata": {},
   "outputs": [
    {
     "name": "stdout",
     "output_type": "stream",
     "text": [
      "Score of History of mathematics\n",
      ": 0.0001600088309732059\n"
     ]
    }
   ],
   "source": [
    "math_id = 2463\n",
    "print(\"Score of {}: {}\".format(pages[math_id], a[math_id]))"
   ]
  },
  {
   "cell_type": "code",
   "execution_count": 18,
   "metadata": {},
   "outputs": [
    {
     "name": "stdout",
     "output_type": "stream",
     "text": [
      "Initial size: 5540\n",
      "Final size: 5840\n"
     ]
    }
   ],
   "source": [
    "graph_wiki_modif = graph_wiki.copy()\n",
    "initial_size = len(graph_wiki)\n",
    "print(\"Initial size:\", initial_size)\n",
    "\n",
    "MAX_NODES = 300\n",
    "for i in range(MAX_NODES):\n",
    "    nid = initial_size + i\n",
    "    graph_wiki_modif.add_node(nid)\n",
    "    graph_wiki_modif.add_edge(nid, math_id)\n",
    "    \n",
    "print(\"Final size:\", len(graph_wiki_modif))"
   ]
  },
  {
   "cell_type": "code",
   "execution_count": 19,
   "metadata": {},
   "outputs": [
    {
     "name": "stdout",
     "output_type": "stream",
     "text": [
      "Score of History of mathematics\n",
      ": 0.006702977097994818\n"
     ]
    }
   ],
   "source": [
    "b = power_iteration(graph_wiki_modif, 100, 0.15)\n",
    "idxb = (-b).argsort()\n",
    "print(\"Score of {}: {}\".format(pages[math_id], b[math_id]))"
   ]
  },
  {
   "cell_type": "code",
   "execution_count": 20,
   "metadata": {},
   "outputs": [
    {
     "name": "stdout",
     "output_type": "stream",
     "text": [
      "1 History of mathematics\n",
      " 0.00670297709799\n",
      "2 United States\n",
      " 0.00175193440832\n",
      "3 United Kingdom\n",
      " 0.00123288382518\n",
      "4 England\n",
      " 0.00111379138978\n",
      "5 France\n",
      " 0.00102987508653\n",
      "6 Europe\n",
      " 0.000988936098682\n",
      "7 Biological classification\n",
      " 0.000932736286894\n",
      "8 Animal\n",
      " 0.000847661835252\n",
      "9 World War II\n",
      " 0.000816703650356\n",
      "10 London\n",
      " 0.000804047223545\n"
     ]
    }
   ],
   "source": [
    "rank = 1\n",
    "for i in idxb[:10]:\n",
    "    print(rank, pages[i], b[i])\n",
    "    rank += 1"
   ]
  },
  {
   "cell_type": "markdown",
   "metadata": {
    "collapsed": true
   },
   "source": [
    "To increase the rank of a given node with the limitation of adding at most 300 nodes, we can use the naive algorithm of adding those 300 nodes and then adding an edge from each one of them to the target node. Sice the network we're working with is realively small, we can see how easily the score of the target node becomes the highest by far of the network (from 0.00016 to 0.006)."
   ]
  },
  {
   "cell_type": "code",
   "execution_count": null,
   "metadata": {
    "collapsed": true
   },
   "outputs": [],
   "source": []
  }
 ],
 "metadata": {
  "kernelspec": {
   "display_name": "Python 3",
   "language": "python",
   "name": "python3"
  },
  "language_info": {
   "codemirror_mode": {
    "name": "ipython",
    "version": 3
   },
   "file_extension": ".py",
   "mimetype": "text/x-python",
   "name": "python",
   "nbconvert_exporter": "python",
   "pygments_lexer": "ipython3",
   "version": "3.6.3"
  }
 },
 "nbformat": 4,
 "nbformat_minor": 2
}
