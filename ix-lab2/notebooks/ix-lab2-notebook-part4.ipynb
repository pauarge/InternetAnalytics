{
 "cells": [
  {
   "cell_type": "markdown",
   "metadata": {},
   "source": [
    "# Networks: structure, evolution & processes\n",
    "**Internet Analytics - Lab 2**\n",
    "\n",
    "---\n",
    "\n",
    "**Group:** *Your group letter.*\n",
    "\n",
    "**Names:**\n",
    "\n",
    "* *Name 1*\n",
    "* *Name 2*\n",
    "* *Name 3*\n",
    "\n",
    "---\n",
    "\n",
    "#### Instructions\n",
    "\n",
    "*This is a template for part 4 of the lab. Clearly write your answers, comments and interpretations in Markodown cells. Don't forget that you can add $\\LaTeX$ equations in these cells. Feel free to add or remove any cell.*\n",
    "\n",
    "*Please properly comment your code. Code readability will be considered for grading. To avoid long cells of codes in the notebook, you can also embed long python functions and classes in a separate module. Don’t forget to hand in your module if that is the case. In multiple exercises, you are required to come up with your own method to solve various problems. Be creative and clearly motivate and explain your methods. Creativity and clarity will be considered for grading.*"
   ]
  },
  {
   "cell_type": "code",
   "execution_count": 90,
   "metadata": {
    "collapsed": true
   },
   "outputs": [],
   "source": [
    "%matplotlib inline\n",
    "import collections\n",
    "import matplotlib.pyplot as plt\n",
    "import networkx as nx\n",
    "import numpy as np\n",
    "import random\n",
    "import operator"
   ]
  },
  {
   "cell_type": "markdown",
   "metadata": {},
   "source": [
    "---\n",
    "\n",
    "## 2.4 PageRank\n",
    "\n",
    "### 2.4.1 Random Surfer Model\n",
    "\n",
    "#### Exercise 2.12"
   ]
  },
  {
   "cell_type": "code",
   "execution_count": 36,
   "metadata": {},
   "outputs": [
    {
     "data": {
      "image/png": "[encoded data removed]",
      "text/plain": [
       "<matplotlib.figure.Figure at 0x7f0f59905ef0>"
      ]
     },
     "metadata": {},
     "output_type": "display_data"
    }
   ],
   "source": [
    "G1 = nx.read_adjlist(\"../data/absorbing.graph\", nodetype=int, create_using=nx.DiGraph())\n",
    "nx.draw(G1)"
   ]
  },
  {
   "cell_type": "code",
   "execution_count": 35,
   "metadata": {},
   "outputs": [
    {
     "data": {
      "image/png": "[encoded data removed]",
      "text/plain": [
       "<matplotlib.figure.Figure at 0x7f0f6192be48>"
      ]
     },
     "metadata": {},
     "output_type": "display_data"
    }
   ],
   "source": [
    "G2 = nx.read_adjlist(\"../data/components.graph\", nodetype=int, create_using=nx.DiGraph())\n",
    "nx.draw(G2)"
   ]
  },
  {
   "cell_type": "code",
   "execution_count": 102,
   "metadata": {},
   "outputs": [],
   "source": [
    "ITERS = 1000\n",
    "\n",
    "def random_surfer(G):\n",
    "    n = random.choice(list(G.nodes()))\n",
    "    counters = collections.defaultdict(lambda: 0)\n",
    "\n",
    "    for i in range(ITERS):\n",
    "        counters[n] += 1\n",
    "        neighbors = list(G.neighbors(n))\n",
    "        if len(neighbors) > 0:\n",
    "            n = random.choice(neighbors)\n",
    "        else:\n",
    "            break\n",
    "    \n",
    "    counters = {k: v / ITERS for k, v in counters.items()}\n",
    "    counters = sorted(counters.items(), key=operator.itemgetter(1))\n",
    "    return counters"
   ]
  },
  {
   "cell_type": "code",
   "execution_count": 103,
   "metadata": {},
   "outputs": [
    {
     "name": "stdout",
     "output_type": "stream",
     "text": [
      "[(4, 0.001), (1, 0.001)]\n",
      "[(5, 0.143), (6, 0.285), (7, 0.286), (4, 0.286)]\n"
     ]
    }
   ],
   "source": [
    "print(random_surfer(G1))\n",
    "print(random_surfer(G2))"
   ]
  },
  {
   "cell_type": "markdown",
   "metadata": {},
   "source": [
    "#### Exercise 2.13"
   ]
  },
  {
   "cell_type": "code",
   "execution_count": 104,
   "metadata": {
    "collapsed": true
   },
   "outputs": [],
   "source": [
    "ITERS = 1000\n",
    "DAMP_FACT = 0.15\n",
    "\n",
    "def random_surfer(G):\n",
    "    n = random.choice(list(G.nodes()))\n",
    "    counters = collections.defaultdict(lambda: 0)\n",
    "\n",
    "    for i in range(ITERS):\n",
    "        counters[n] += 1\n",
    "        neighbors = list(G.neighbors(n))\n",
    "        choose_from = list(G.nodes()) if random.random() < DAMP_FACT or len(neighbors) == 0 else neighbors\n",
    "        n = random.choice(choose_from)\n",
    "    \n",
    "    counters = {k: v / ITERS for k, v in counters.items()}\n",
    "    counters = sorted(counters.items(), key=operator.itemgetter(1))\n",
    "    return counters"
   ]
  },
  {
   "cell_type": "code",
   "execution_count": 106,
   "metadata": {},
   "outputs": [
    {
     "name": "stdout",
     "output_type": "stream",
     "text": [
      "[(2, 0.143), (0, 0.148), (4, 0.151), (3, 0.21), (1, 0.348)]\n",
      "[(5, 0.069), (3, 0.088), (6, 0.118), (7, 0.132), (4, 0.135), (1, 0.149), (0, 0.153), (2, 0.156)]\n"
     ]
    }
   ],
   "source": [
    "print(random_surfer(G1))\n",
    "print(random_surfer(G2))"
   ]
  },
  {
   "cell_type": "markdown",
   "metadata": {},
   "source": [
    "---\n",
    "\n",
    "### 2.4.2 Power Iteration Method\n",
    "\n",
    "#### Exercise 2.14: Power Iteration method"
   ]
  },
  {
   "cell_type": "code",
   "execution_count": 107,
   "metadata": {
    "collapsed": true
   },
   "outputs": [],
   "source": [
    "G3 = nx.read_adjlist(\"../data/wikipedia.graph\", nodetype=int, create_using=nx.DiGraph())"
   ]
  },
  {
   "cell_type": "code",
   "execution_count": 112,
   "metadata": {},
   "outputs": [
    {
     "name": "stdout",
     "output_type": "stream",
     "text": [
      "[ 0.00018051  0.00018051  0.00018051 ...,  0.00018051  0.00018051\n",
      "  0.00018051]\n"
     ]
    },
    {
     "ename": "ValueError",
     "evalue": "shapes (5540,) and (5,) not aligned: 5540 (dim 0) != 5 (dim 0)",
     "output_type": "error",
     "traceback": [
      "\u001b[0;31m---------------------------------------------------------------------------\u001b[0m",
      "\u001b[0;31mValueError\u001b[0m                                Traceback (most recent call last)",
      "\u001b[0;32m<ipython-input-112-d145ac687955>\u001b[0m in \u001b[0;36m<module>\u001b[0;34m()\u001b[0m\n\u001b[1;32m      7\u001b[0m \u001b[0;32mfor\u001b[0m \u001b[0mi\u001b[0m \u001b[0;32min\u001b[0m \u001b[0mrange\u001b[0m\u001b[0;34m(\u001b[0m\u001b[0mITERS\u001b[0m\u001b[0;34m)\u001b[0m\u001b[0;34m:\u001b[0m\u001b[0;34m\u001b[0m\u001b[0m\n\u001b[1;32m      8\u001b[0m \u001b[0;34m\u001b[0m\u001b[0m\n\u001b[0;32m----> 9\u001b[0;31m     \u001b[0mpi\u001b[0m \u001b[0;34m=\u001b[0m \u001b[0mpi\u001b[0m\u001b[0;34m.\u001b[0m\u001b[0mdot\u001b[0m\u001b[0;34m(\u001b[0m\u001b[0mG\u001b[0m\u001b[0;34m)\u001b[0m\u001b[0;34m\u001b[0m\u001b[0m\n\u001b[0m",
      "\u001b[0;31mValueError\u001b[0m: shapes (5540,) and (5,) not aligned: 5540 (dim 0) != 5 (dim 0)"
     ]
    }
   ],
   "source": [
    "ITERS = 1000\n",
    "THETA = 0.15\n",
    "N = len(G3)\n",
    "\n",
    "w = \n",
    "pi = np.ones(N) / N\n",
    "\n",
    "for i in range(ITERS):\n",
    "    h = \n",
    "    hh = h + (1 / N) * (w * np.ones(N).T) \n",
    "    g = THETA * hh + (1 - THETA) * (np.ones((N, N)) / N)\n",
    "    pi = pi.dot(g)"
   ]
  },
  {
   "cell_type": "markdown",
   "metadata": {},
   "source": [
    "---\n",
    "\n",
    "### 2.4.3 Gaming the system *(Bonus)*\n",
    "\n",
    "#### Exercise 2.15 *(Bonus)*"
   ]
  },
  {
   "cell_type": "code",
   "execution_count": null,
   "metadata": {
    "collapsed": true
   },
   "outputs": [],
   "source": []
  }
 ],
 "metadata": {
  "kernelspec": {
   "display_name": "Python 3",
   "language": "python",
   "name": "python3"
  },
  "language_info": {
   "codemirror_mode": {
    "name": "ipython",
    "version": 3
   },
   "file_extension": ".py",
   "mimetype": "text/x-python",
   "name": "python",
   "nbconvert_exporter": "python",
   "pygments_lexer": "ipython3",
   "version": "3.6.3"
  }
 },
 "nbformat": 4,
 "nbformat_minor": 2
}
