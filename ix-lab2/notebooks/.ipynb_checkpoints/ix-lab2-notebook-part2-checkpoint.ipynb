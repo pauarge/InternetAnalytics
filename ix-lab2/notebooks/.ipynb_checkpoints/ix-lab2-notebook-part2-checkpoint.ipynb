{
 "cells": [
  {
   "cell_type": "markdown",
   "metadata": {},
   "source": [
    "# Networks: structure, evolution & processes\n",
    "**Internet Analytics - Lab 2**\n",
    "\n",
    "---\n",
    "\n",
    "**Group:** *Your group letter.*\n",
    "\n",
    "**Names:**\n",
    "\n",
    "* *Name 1*\n",
    "* *Name 2*\n",
    "* *Name 3*\n",
    "\n",
    "---\n",
    "\n",
    "#### Instructions\n",
    "\n",
    "*This is a template for part 2 of the lab. Clearly write your answers, comments and interpretations in Markodown cells. Don't forget that you can add $\\LaTeX$ equations in these cells. Feel free to add or remove any cell.*\n",
    "\n",
    "*Please properly comment your code. Code readability will be considered for grading. To avoid long cells of codes in the notebook, you can also embed long python functions and classes in a separate module. Don’t forget to hand in your module if that is the case. In multiple exercises, you are required to come up with your own method to solve various problems. Be creative and clearly motivate and explain your methods. Creativity and clarity will be considered for grading.*"
   ]
  },
  {
   "cell_type": "code",
   "execution_count": 65,
   "metadata": {
    "collapsed": true
   },
   "outputs": [],
   "source": [
    "import numpy as np\n",
    "import requests"
   ]
  },
  {
   "cell_type": "markdown",
   "metadata": {},
   "source": [
    "---\n",
    "\n",
    "## 2.2 Network sampling\n",
    "\n",
    "#### Exercise 2.7: Random walk on the Facebook network"
   ]
  },
  {
   "cell_type": "code",
   "execution_count": 66,
   "metadata": {},
   "outputs": [
    {
     "name": "stdout",
     "output_type": "stream",
     "text": [
      "Average age is 21.1702257474\n",
      "Visited 696 unique nodes in 2500 iterations, total sum is 34698.\n",
      "Max age seen is 67 and min is 10.\n"
     ]
    }
   ],
   "source": [
    "URL_TEMPLATE = 'http://iccluster051.iccluster.epfl.ch:5050/v1.0/facebook?user={user_id}'\n",
    "N = 2500\n",
    "visited = set()\n",
    "ages = []\n",
    "degrees = []\n",
    "u = 'f30ff3966f16ed62f5165a229a19b319'\n",
    "\n",
    "for i in range(N):\n",
    "    url = URL_TEMPLATE.format(user_id=u)\n",
    "    response = requests.get(url)\n",
    "    data = response.json()\n",
    "    if u not in visited:\n",
    "        ages.append(data.get('age'))\n",
    "        degrees.append(len(data.get('friends')))\n",
    "        visited.add(u)\n",
    "    u = np.random.choice(data.get('friends'))\n",
    "\n",
    "print(\"Average age is\", np.mean(ages))\n",
    "print(\"Visited {} unique nodes in {} iterations, total sum is {}.\".format(total_visited, N, np.sum(ages)))\n",
    "print(\"Max age seen is {} and min is {}.\".format(max(ages), min(ages)))"
   ]
  },
  {
   "cell_type": "markdown",
   "metadata": {},
   "source": [
    "#### Exercise 2.8"
   ]
  },
  {
   "cell_type": "markdown",
   "metadata": {},
   "source": [
    "1. My estimation is quite far from the actual average (43 vs 21). Therefore, my estimation overrepresents young users.\n",
    "2. It is usual that yong users have more friends and connections, therefore the random walk has a bias towards high degree nodes (they are sampled more frequently).\n",
    "3. The selection of the next user to explore from the current users friends should no be a \"blind\" random, but should have some kind of bias to compensate the lower likelihood of nodes with small degree to be selected. The implementation has been done using an unbiased estimator such in the course slides."
   ]
  },
  {
   "cell_type": "code",
   "execution_count": 70,
   "metadata": {},
   "outputs": [
    {
     "name": "stdout",
     "output_type": "stream",
     "text": [
      "Average using unbiased estimator is 41.0113790125\n"
     ]
    }
   ],
   "source": [
    "num = [a/d for a, d in zip(ages, degrees)]\n",
    "den = [1/d for d in degrees]\n",
    "est = np.sum(num) / np.sum(den)\n",
    "\n",
    "print(\"Average using unbiased estimator is\", est)"
   ]
  },
  {
   "cell_type": "code",
   "execution_count": null,
   "metadata": {
    "collapsed": true
   },
   "outputs": [],
   "source": []
  }
 ],
 "metadata": {
  "kernelspec": {
   "display_name": "Python 3",
   "language": "python",
   "name": "python3"
  },
  "language_info": {
   "codemirror_mode": {
    "name": "ipython",
    "version": 3
   },
   "file_extension": ".py",
   "mimetype": "text/x-python",
   "name": "python",
   "nbconvert_exporter": "python",
   "pygments_lexer": "ipython3",
   "version": "3.6.3"
  }
 },
 "nbformat": 4,
 "nbformat_minor": 2
}
