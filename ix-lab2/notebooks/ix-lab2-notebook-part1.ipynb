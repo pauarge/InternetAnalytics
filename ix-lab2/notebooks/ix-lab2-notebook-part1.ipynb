{
 "cells": [
  {
   "cell_type": "markdown",
   "metadata": {},
   "source": [
    "# Networks: structure, evolution & processes\n",
    "**Internet Analytics - Lab 2**\n",
    "\n",
    "---\n",
    "\n",
    "**Group:** *O.*\n",
    "\n",
    "**Names:**\n",
    "\n",
    "* *Argelaguet Franquelo, Pau*\n",
    "* *Maillard, Mathias*\n",
    "* *du Bois de Dunilac, Vivien*\n",
    "\n",
    "---\n",
    "\n",
    "#### Instructions\n",
    "\n",
    "*This is a template for part 1 of the lab. Clearly write your answers, comments and interpretations in Markodown cells. Don't forget that you can add $\\LaTeX$ equations in these cells. Feel free to add or remove any cell.*\n",
    "\n",
    "*Please properly comment your code. Code readability will be considered for grading. To avoid long cells of codes in the notebook, you can also embed long python functions and classes in a separate module. Don’t forget to hand in your module if that is the case. In multiple exercises, you are required to come up with your own method to solve various problems. Be creative and clearly motivate and explain your methods. Creativity and clarity will be considered for grading.*"
   ]
  },
  {
   "cell_type": "code",
   "execution_count": 1,
   "metadata": {
    "collapsed": true
   },
   "outputs": [],
   "source": [
    "%matplotlib inline\n",
    "import collections\n",
    "import matplotlib.pyplot as plt\n",
    "import networkx as nx\n",
    "import numpy as np\n",
    "import random\n",
    "from scipy.stats import pareto\n",
    "from random import choice"
   ]
  },
  {
   "cell_type": "markdown",
   "metadata": {},
   "source": [
    "---\n",
    "\n",
    "## 2.1 Exploration of real networks\n",
    "\n",
    "#### Exercise 2.1"
   ]
  },
  {
   "cell_type": "code",
   "execution_count": 2,
   "metadata": {},
   "outputs": [
    {
     "name": "stdout",
     "output_type": "stream",
     "text": [
      "Number of nodes: 13033\n",
      "Number of edges: 18584\n"
     ]
    }
   ],
   "source": [
    "G1 = nx.read_adjlist(\"../data/network1.csv\", delimiter=\",\", comments=\"#\")\n",
    "num_nodes = G1.number_of_nodes()\n",
    "\n",
    "print(\"Number of nodes:\", num_nodes)\n",
    "print(\"Number of edges:\", G1.number_of_edges())"
   ]
  },
  {
   "cell_type": "markdown",
   "metadata": {},
   "source": [
    "#### Exercise 2.2:  Node degree distribution"
   ]
  },
  {
   "cell_type": "markdown",
   "metadata": {},
   "source": [
    "1) The used plot with logarithmic scale in both axis, to ensure correct visualization.\n",
    "\n",
    "2) We can see that most nodes have small degree, so the distribution is decreasing towards few nodes with higher degrees.\n",
    "\n",
    "3) This log-log plot looks like a pareto distribution as it is a straight line."
   ]
  },
  {
   "cell_type": "code",
   "execution_count": 3,
   "metadata": {
    "collapsed": true
   },
   "outputs": [],
   "source": [
    "def plot_degrees(G):\n",
    "    degree_sequence = sorted([d for n, d in G.degree()], reverse=True)\n",
    "    degree_count = collections.Counter(degree_sequence)\n",
    "\n",
    "    plt.loglog(range(len(degree_count)), list([degree_count[i] for i in range(len(degree_count))]))\n",
    "    plt.show()"
   ]
  },
  {
   "cell_type": "code",
   "execution_count": 4,
   "metadata": {},
   "outputs": [
    {
     "data": {
      "image/png": "[encoded data removed]",
      "text/plain": [
       "<matplotlib.figure.Figure at 0x7fe85934b7b8>"
      ]
     },
     "metadata": {},
     "output_type": "display_data"
    }
   ],
   "source": [
    "plot_degrees(G1)"
   ]
  },
  {
   "cell_type": "code",
   "execution_count": 5,
   "metadata": {},
   "outputs": [
    {
     "data": {
      "image/png": "[encoded data removed]",
      "text/plain": [
       "<matplotlib.figure.Figure at 0x7fe839db94e0>"
      ]
     },
     "metadata": {},
     "output_type": "display_data"
    }
   ],
   "source": [
    "fig, ax = plt.subplots(1, 1)\n",
    "b = 1\n",
    "x = np.linspace(pareto.ppf(0.01, b), pareto.ppf(0.99, b), 100)\n",
    "ax.loglog(x, pareto.pdf(x, b), 'r-', lw=5, alpha=0.6, label='pareto pdf')\n",
    "\n",
    "plt.show()"
   ]
  },
  {
   "cell_type": "markdown",
   "metadata": {},
   "source": [
    "#### Exercise 2.3: Giant component"
   ]
  },
  {
   "cell_type": "code",
   "execution_count": 6,
   "metadata": {},
   "outputs": [
    {
     "name": "stdout",
     "output_type": "stream",
     "text": [
      "Number of connected components: 192\n",
      "Number of nodes in the giant component: 12576\n"
     ]
    }
   ],
   "source": [
    "print(\"Number of connected components:\", nx.number_connected_components(G1))\n",
    "\n",
    "giant = max(nx.connected_component_subgraphs(G1), key=len)\n",
    "print(\"Number of nodes in the giant component:\", giant.number_of_nodes())"
   ]
  },
  {
   "cell_type": "markdown",
   "metadata": {},
   "source": [
    "#### Exercise 2.4: Short paths & Small-worlds"
   ]
  },
  {
   "cell_type": "code",
   "execution_count": 7,
   "metadata": {
    "collapsed": true
   },
   "outputs": [],
   "source": [
    "def average_distance(G, steps):\n",
    "    graph_nodes = G1.nodes()\n",
    "    n_nodes = G1.number_of_nodes()\n",
    "    distance_counter = 0.0\n",
    "    unreachable_counter = 0\n",
    "    for i in range(steps):\n",
    "        try:\n",
    "            distance_counter += nx.shortest_path_length(G1, source=str(random.randint(0,n_nodes-1)), target=str(random.randint(0,n_nodes-1)))\n",
    "        except:\n",
    "            unreachable_counter += 1\n",
    "\n",
    "    print(\"The average length of the path between two connected nodes:\", distance_counter / (steps-unreachable_counter))\n",
    "    print(unreachable_counter, \"out of\", steps, \"paths did not exist.\")"
   ]
  },
  {
   "cell_type": "code",
   "execution_count": 8,
   "metadata": {},
   "outputs": [
    {
     "name": "stdout",
     "output_type": "stream",
     "text": [
      "The average length of the path between two connected nodes: 4.1744818304172275\n",
      "1425 out of 20000 paths did not exist.\n"
     ]
    }
   ],
   "source": [
    "average_distance(G1, 20000)"
   ]
  },
  {
   "cell_type": "code",
   "execution_count": 9,
   "metadata": {
    "collapsed": true
   },
   "outputs": [],
   "source": [
    "def graph_growth(G, size, steps):\n",
    "    print(\"Average number of nodes reachable from any node in the graph:\")\n",
    "    n_nodes = G.number_of_nodes()\n",
    "    for cut in range(size):\n",
    "        counter = 0\n",
    "        for i in range(steps):\n",
    "            counter += len(nx.single_source_shortest_path_length(G ,source=str(random.randint(0, n_nodes-1)), cutoff=cut+1))\n",
    "    \n",
    "        print(\"  For cutoff\", cut+1, \":\", counter / steps)"
   ]
  },
  {
   "cell_type": "code",
   "execution_count": 10,
   "metadata": {},
   "outputs": [
    {
     "name": "stdout",
     "output_type": "stream",
     "text": [
      "Average number of nodes reachable from any node in the graph:\n",
      "  For cutoff 1 : 3.357\n",
      "  For cutoff 2 : 430.592\n",
      "  For cutoff 3 : 2964.26\n",
      "  For cutoff 4 : 7982.696\n",
      "  For cutoff 5 : 10993.042\n"
     ]
    }
   ],
   "source": [
    "graph_growth(G1, 5, 1000)"
   ]
  },
  {
   "cell_type": "markdown",
   "metadata": {},
   "source": [
    "Yes, network1 is a small world, because we can see that within a small distance, we can reach an important portion of the network."
   ]
  },
  {
   "cell_type": "markdown",
   "metadata": {},
   "source": [
    "#### Exercise 2.5: Network comparison"
   ]
  },
  {
   "cell_type": "code",
   "execution_count": 11,
   "metadata": {},
   "outputs": [
    {
     "name": "stdout",
     "output_type": "stream",
     "text": [
      "Number of nodes: 26542\n",
      "Number of edges: 43516\n",
      "Number of connected components: 5\n",
      "Number of nodes in the giant component: 26481\n"
     ]
    }
   ],
   "source": [
    "G2 = nx.read_adjlist(\"../data/network2.csv\", delimiter=\",\", comments=\"#\")\n",
    "\n",
    "print(\"Number of nodes:\", G2.number_of_nodes())\n",
    "print(\"Number of edges:\", G2.number_of_edges())\n",
    "\n",
    "print(\"Number of connected components:\", nx.number_connected_components(G2))\n",
    "\n",
    "giant = max(nx.connected_component_subgraphs(G2), key=len)\n",
    "print(\"Number of nodes in the giant component:\", giant.number_of_nodes())"
   ]
  },
  {
   "cell_type": "code",
   "execution_count": 12,
   "metadata": {},
   "outputs": [
    {
     "data": {
      "image/png": "[encoded data removed]",
      "text/plain": [
       "<matplotlib.figure.Figure at 0x7fe839de9518>"
      ]
     },
     "metadata": {},
     "output_type": "display_data"
    }
   ],
   "source": [
    "plot_degrees(G2)"
   ]
  },
  {
   "cell_type": "code",
   "execution_count": 13,
   "metadata": {},
   "outputs": [
    {
     "name": "stdout",
     "output_type": "stream",
     "text": [
      "The average length of the path between two connected nodes: 4.17913734758554\n",
      "1383 out of 20000 paths did not exist.\n"
     ]
    }
   ],
   "source": [
    "average_distance(G2, 20000)"
   ]
  },
  {
   "cell_type": "code",
   "execution_count": 14,
   "metadata": {},
   "outputs": [
    {
     "name": "stdout",
     "output_type": "stream",
     "text": [
      "Average number of nodes reachable from any node in the graph:\n",
      "For cutoff 1 : 4.286\n",
      "For cutoff 2 : 10.75\n",
      "For cutoff 3 : 20.585\n",
      "For cutoff 4 : 34.446\n",
      "For cutoff 5 : 50.851\n",
      "For cutoff 6 : 72.267\n",
      "For cutoff 7 : 96.285\n",
      "For cutoff 8 : 123.207\n",
      "For cutoff 9 : 158.374\n",
      "For cutoff 10 : 195.1\n",
      "For cutoff 11 : 234.502\n",
      "For cutoff 12 : 273.329\n",
      "For cutoff 13 : 324.171\n",
      "For cutoff 14 : 371.632\n",
      "For cutoff 15 : 427.007\n",
      "For cutoff 16 : 490.332\n",
      "For cutoff 17 : 548.815\n",
      "For cutoff 18 : 611.575\n",
      "For cutoff 19 : 671.476\n",
      "For cutoff 20 : 748.081\n",
      "For cutoff 21 : 837.246\n",
      "For cutoff 22 : 912.519\n",
      "For cutoff 23 : 986.34\n",
      "For cutoff 24 : 1082.201\n",
      "For cutoff 25 : 1175.988\n"
     ]
    }
   ],
   "source": [
    "print(\"Average number of nodes reachable from any node in the graph:\")\n",
    "n_nodes = G2.number_of_nodes()\n",
    "\n",
    "for cut in range(25):\n",
    "    counter = 0\n",
    "    steps = 1000\n",
    "    list_keys = list(G2.nodes())\n",
    "    for i in range(steps):\n",
    "        counter += len(nx.single_source_shortest_path_length(G2 ,source=str(choice(list_keys)), cutoff=cut+1))\n",
    "    \n",
    "    print(\"For cutoff\", cut+1, \":\", counter / steps)"
   ]
  },
  {
   "cell_type": "markdown",
   "metadata": {},
   "source": [
    "This network has the double of nodes than the previous one, but still in the same order of magnitude. On the other hand, it is way more connected, because in network 1 the number of nodes and edges is similar, but in the second, number of edges is almost the double of nodes. \n",
    "\n",
    "It is as well more connected as we can see in degree distribution, where the decrease of frequency of nodes with higher degree is not immediate as it was previously."
   ]
  },
  {
   "cell_type": "markdown",
   "metadata": {},
   "source": [
    "#### Exercise 2.6: Network identification"
   ]
  },
  {
   "cell_type": "markdown",
   "metadata": {
    "collapsed": true
   },
   "source": [
    "G1 is probably the routers and G2 is probably the roads, the most significant factor in our decision is the growth rate of both networks."
   ]
  },
  {
   "cell_type": "code",
   "execution_count": null,
   "metadata": {
    "collapsed": true
   },
   "outputs": [],
   "source": []
  }
 ],
 "metadata": {
  "kernelspec": {
   "display_name": "Python 3",
   "language": "python",
   "name": "python3"
  },
  "language_info": {
   "codemirror_mode": {
    "name": "ipython",
    "version": 3
   },
   "file_extension": ".py",
   "mimetype": "text/x-python",
   "name": "python",
   "nbconvert_exporter": "python",
   "pygments_lexer": "ipython3",
   "version": "3.6.1"
  }
 },
 "nbformat": 4,
 "nbformat_minor": 2
}
