{
 "cells": [
  {
   "cell_type": "markdown",
   "metadata": {},
   "source": [
    "# Text 1: Vector space models\n",
    "**Internet Analytics - Lab 4**\n",
    "\n",
    "---\n",
    "\n",
    "**Group:** *Your group letter.*\n",
    "\n",
    "**Names:**\n",
    "\n",
    "* *Name 1*\n",
    "* *Name 2*\n",
    "* *Name 3*\n",
    "\n",
    "---\n",
    "\n",
    "#### Instructions\n",
    "\n",
    "*This is a template for part 1 of the lab. Clearly write your answers, comments and interpretations in Markodown cells. Don't forget that you can add $\\LaTeX$ equations in these cells. Feel free to add or remove any cell.*\n",
    "\n",
    "*Please properly comment your code. Code readability will be considered for grading. To avoid long cells of codes in the notebook, you can also embed long python functions and classes in a separate module. Don’t forget to hand in your module if that is the case. In multiple exercises, you are required to come up with your own method to solve various problems. Be creative and clearly motivate and explain your methods. Creativity and clarity will be considered for grading.*"
   ]
  },
  {
   "cell_type": "code",
   "execution_count": 1,
   "metadata": {
    "collapsed": true
   },
   "outputs": [],
   "source": [
    "import pickle\n",
    "import numpy as np\n",
    "import string\n",
    "from scipy.sparse import csr_matrix\n",
    "from utils import load_json, load_pkl\n",
    "\n",
    "courses = load_json('data/courses.txt')\n",
    "stopwords = load_pkl('data/stopwords.pkl')"
   ]
  },
  {
   "cell_type": "markdown",
   "metadata": {},
   "source": [
    "## Exercise 4.1: Pre-processing"
   ]
  },
  {
   "cell_type": "code",
   "execution_count": 2,
   "metadata": {},
   "outputs": [
    {
     "name": "stdout",
     "output_type": "stream",
     "text": [
      "The latest developments in processing and the novel generations of organic composites are discussed. Nanocomposites, adaptive composites and biocomposites are presented. Product development, cost analysis and study of new markets are practiced in team work. Content Basics of composite materialsConstituentsProcessing of compositesDesign of composite structures Current developmentNanocomposites Textile compositesBiocompositesAdaptive composites ApplicationsDriving forces and marketsCost analysisAerospaceAutomotiveSport Keywords Composites - Applications - Nanocomposites - Biocomposites - Adaptive composites - Design - Cost Learning Prerequisites Required courses Notion of polymers Recommended courses Polymer Composites Learning Outcomes By the end of the course, the student must be able to: Propose suitable design, production and performance criteria for the production of a composite partApply the basic equations for process and mechanical properties modelling for composite materialsDiscuss the main types of composite applications Transversal skills Use a work methodology appropriate to the task.Use both general and domain specific IT resources and toolsCommunicate effectively with professionals from other disciplines.Evaluate one's own performance in the team, receive and respond appropriately to feedback. Teaching methods Ex cathedra and invited speakers Group sessions with exercises or work on the project Expected student activities Attendance at lectures Design of a composite part, bibliography search   Assessment methods Written exam report and oral presentation in class\n"
     ]
    }
   ],
   "source": [
    "print(courses[0]['description'])"
   ]
  },
  {
   "cell_type": "code",
   "execution_count": null,
   "metadata": {
    "collapsed": true
   },
   "outputs": [],
   "source": []
  },
  {
   "cell_type": "code",
   "execution_count": 3,
   "metadata": {},
   "outputs": [
    {
     "name": "stdout",
     "output_type": "stream",
     "text": [
      "There are 854 courses.\n",
      "[('methods', 1612), ('learn', 1609), ('student', 1195), ('content', 905), ('students', 827), ('design', 791), ('courses', 757), ('systems', 707), ('analysis', 695), ('end', 667), ('assessment', 644), ('outcomes', 618), ('teach', 611), ('work', 599), ('prerequisites', 583), ('concepts', 581), ('basic', 578), ('keywords', 573), ('project', 510), ('exercises', 501), ('skills', 496), ('model', 492), ('models', 486), ('data', 477), ('activities', 474), ('introduction', 466), ('lectures', 446), ('theory', 437), ('expect', 437), ('process', 436), ('exam', 415), ('energy', 411), ('transversal', 395), ('requir', 395), ('recommend', 391), ('techniques', 384), ('engineer', 375), ('applications', 367), ('materials', 364), ('evaluate', 360), ('hours', 349), ('oral', 346), ('research', 345), ('written', 343), ('important', 336), ('plan', 330), ('supervision', 319), ('control', 318), ('dur', 315)]\n",
      "16255 19781 0.821748142156615\n"
     ]
    }
   ],
   "source": [
    "print(\"There are\", len(courses), \"courses.\")\n",
    "res = {}\n",
    "for i in range(len(courses)):\n",
    "    for word in courses[i]['description'].split():\n",
    "        if word[len(word) - 1] in string.punctuation:\n",
    "            word = word[0:-1]\n",
    "        if word[-2:] == \"ly\" or word[-2:] == \"ed\":\n",
    "            word = word[0:-2]\n",
    "        if word[-3:] == \"ing\":\n",
    "            word = word[0:-3]\n",
    "        if not word.lower() in stopwords:\n",
    "            x = res.get(word.lower(), 0)\n",
    "            res[word.lower()] = x + 1\n",
    "            \n",
    "print(sorted(list(res.items()), key=lambda x:x[1])[-1:-50:-1])\n",
    "c = 0\n",
    "c2 = 0\n",
    "for i in res.values():\n",
    "    c2 += 1\n",
    "    if i < 5:\n",
    "        c += 1\n",
    "print(c, c2, c/c2)"
   ]
  },
  {
   "cell_type": "code",
   "execution_count": 5,
   "metadata": {},
   "outputs": [
    {
     "name": "stdout",
     "output_type": "stream",
     "text": [
      "There are 854 courses.\n",
      "58627 61247 0.9572223945662645\n",
      "8\n",
      "[('of the', 897), ('the course', 716), ('in the', 350), ('this course', 336), ('learning prerequisites', 295), ('introduction to', 277), ('the student', 277), ('by the', 275), ('will be', 269), ('to the', 243), ('learning outcomes', 240), ('and the', 233), ('outcomes by', 227), ('the end', 219), ('end of', 215), ('able to', 197), ('course, the', 196), ('be able', 192), ('student must', 187), ('course is', 183), ('must be', 183), ('of a', 182), ('prerequisites requir', 181), ('required courses', 178), ('recommended courses', 170), ('on the', 165), ('concepts to', 152), ('important concepts', 144), ('is to', 142), ('to start', 139), ('start the', 137), ('students will', 130), ('in a', 124), ('content the', 122), ('for the', 120), ('the students', 117), ('with the', 107), ('content 1', 105), ('we will', 98), ('course will', 98), ('principles of', 97), ('as well', 97), ('such as', 95), ('the main', 94), ('analysis of', 92), ('well as', 92), ('and their', 89), ('of this', 85), ('the field', 84)]\n",
      "[('latest developments', 1), ('novel generations', 1), ('organic composites', 1), ('composites are', 1), ('discussed. nanocomposites', 1), ('nanocomposites, adaptive', 1), ('composites and', 1), ('and biocomposites', 1), ('biocomposites are', 1), ('presented. product', 1), ('development, cost', 1), ('cost analysis', 1), ('new markets', 1), ('are practic', 1), ('composite materialsconstituentsprocess', 1), ('materialsconstituentsprocessing of', 1), ('of compositesdesign', 1), ('compositesdesign of', 1), ('composite structures', 1), ('structures current', 1), ('current developmentnanocomposites', 1), ('developmentnanocomposites textile', 1), ('textile compositesbiocompositesadaptive', 1), ('compositesbiocompositesadaptive composites', 1), ('composites applicationsdriv', 1), ('applicationsdriving forces', 1), ('and marketscost', 1), ('marketscost analysisaerospaceautomotivesport', 1), ('analysisaerospaceautomotivesport keywords', 1), ('- nanocomposites', 1), ('nanocomposites ', 1), ('- biocomposites', 1), ('biocomposites ', 1), ('- adaptive', 1), ('cost learn', 1), ('courses notion', 1), ('polymers recommend', 1), ('courses polymer', 1), ('polymer composites', 1), ('composites learn', 1), ('to: propose', 1), ('suitable design', 1), ('design, production', 1), ('teach image', 1), ('processing with', 1), ('emphasis of', 1), ('solve image', 1), ('processing questions', 1), ('questions via', 1), ('via workflows', 1)]\n"
     ]
    }
   ],
   "source": [
    "print(\"There are\", len(courses), \"courses.\")\n",
    "res = {}\n",
    "for i in range(len(courses)):\n",
    "    splitted = courses[i]['description'].split()\n",
    "    for j in range(int(len(splitted) / 2)):\n",
    "        word = splitted[j] + \" \" + splitted[j+1]\n",
    "        if word[len(word) - 1] in string.punctuation:\n",
    "            word = word[0:-1]\n",
    "        if word[-2:] == \"ly\" or word[-2:] == \"ed\":\n",
    "            word = word[0:-2]\n",
    "        if word[-3:] == \"ing\":\n",
    "            word = word[0:-3]\n",
    "        if not word.lower() in stopwords:\n",
    "            x = res.get(word.lower(), 0)\n",
    "            res[word.lower()] = x + 1\n",
    "            \n",
    "c = 0\n",
    "c2 = 0\n",
    "for i in res.items():\n",
    "    c2 += 1\n",
    "    if i[1] < 5:\n",
    "        c += 1\n",
    "print(c, c2, c/c2)\n",
    "print(res['markov chains'])\n",
    "print(sorted(list(res.items()), key=lambda x:x[1])[-1:-50:-1])\n",
    "print((sorted(list(res.items()), key=lambda x:x[1])[0:50]))"
   ]
  },
  {
   "cell_type": "markdown",
   "metadata": {},
   "source": [
    "## Exercise 4.2: Term-document matrix"
   ]
  },
  {
   "cell_type": "code",
   "execution_count": null,
   "metadata": {
    "collapsed": true
   },
   "outputs": [],
   "source": []
  },
  {
   "cell_type": "markdown",
   "metadata": {},
   "source": [
    "## Exercise 4.3: Document similarity search"
   ]
  },
  {
   "cell_type": "code",
   "execution_count": null,
   "metadata": {
    "collapsed": true
   },
   "outputs": [],
   "source": []
  }
 ],
 "metadata": {
  "kernelspec": {
   "display_name": "Python 3",
   "language": "python",
   "name": "python3"
  },
  "language_info": {
   "codemirror_mode": {
    "name": "ipython",
    "version": 3
   },
   "file_extension": ".py",
   "mimetype": "text/x-python",
   "name": "python",
   "nbconvert_exporter": "python",
   "pygments_lexer": "ipython3",
   "version": "3.6.1"
  }
 },
 "nbformat": 4,
 "nbformat_minor": 2
}
