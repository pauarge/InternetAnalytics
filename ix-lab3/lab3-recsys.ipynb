{
 "cells": [
  {
   "cell_type": "markdown",
   "metadata": {},
   "source": [
    "# Lab 3 — recommender systems"
   ]
  },
  {
   "cell_type": "code",
   "execution_count": 1,
   "metadata": {
    "collapsed": true
   },
   "outputs": [],
   "source": [
    "import json\n",
    "import matplotlib.pyplot as plt\n",
    "import numpy as np\n",
    "import math\n",
    "\n",
    "from operator import add\n",
    "from collections import Counter\n",
    "\n",
    "%matplotlib inline\n",
    "plt.style.use(\"ggplot\")"
   ]
  },
  {
   "cell_type": "markdown",
   "metadata": {},
   "source": [
    "What does the data look like?"
   ]
  },
  {
   "cell_type": "code",
   "execution_count": 2,
   "metadata": {},
   "outputs": [
    {
     "name": "stdout",
     "output_type": "stream",
     "text": [
      "{\"movieId\": 70286, \"userId\": 138493, \"timestamp\": 1258126944, \"rating\": 5.0}\r\n",
      "{\"movieId\": 71619, \"userId\": 138493, \"timestamp\": 1255811136, \"rating\": 2.5}\r\n"
     ]
    }
   ],
   "source": [
    "!hdfs dfs -cat /ix/ml-20m/ratings.txt | tail -n 2"
   ]
  },
  {
   "cell_type": "code",
   "execution_count": 3,
   "metadata": {
    "collapsed": true
   },
   "outputs": [],
   "source": [
    "data = sc.textFile(\"/ix/ml-20m/ratings.txt\").map(json.loads)"
   ]
  },
  {
   "cell_type": "code",
   "execution_count": 4,
   "metadata": {
    "collapsed": true
   },
   "outputs": [],
   "source": [
    "userToNRatings = data.map(lambda x: (x[\"userId\"], 0)).countByKey()\n",
    "movieToNRatings = data.map(lambda x: (x[\"movieId\"], 0)).countByKey()"
   ]
  },
  {
   "cell_type": "code",
   "execution_count": 5,
   "metadata": {},
   "outputs": [
    {
     "data": {
      "image/png": "[encoded data removed]",
      "text/plain": [
       "<matplotlib.figure.Figure at 0x7f45265767b8>"
      ]
     },
     "metadata": {},
     "output_type": "display_data"
    }
   ],
   "source": [
    "plt.plot(sorted(userToNRatings.values()))\n",
    "plt.show()"
   ]
  },
  {
   "cell_type": "code",
   "execution_count": 6,
   "metadata": {},
   "outputs": [
    {
     "data": {
      "image/png": "[encoded data removed]",
      "text/plain": [
       "<matplotlib.figure.Figure at 0x7f451e65e828>"
      ]
     },
     "metadata": {},
     "output_type": "display_data"
    }
   ],
   "source": [
    "plt.plot(sorted(movieToNRatings.values()))\n",
    "plt.show()"
   ]
  },
  {
   "cell_type": "code",
   "execution_count": 7,
   "metadata": {},
   "outputs": [
    {
     "name": "stdout",
     "output_type": "stream",
     "text": [
      "20000263 70511498.5\n"
     ]
    }
   ],
   "source": [
    "c,s = data.aggregate((0,0), lambda a,b: (a[0]+1, a[1] + b['rating']), lambda a,b: (a[0]+b[0], a[1]+b[1]))\n",
    "print(c, s)"
   ]
  },
  {
   "cell_type": "code",
   "execution_count": 8,
   "metadata": {},
   "outputs": [
    {
     "name": "stdout",
     "output_type": "stream",
     "text": [
      "3.5255285642993797\n"
     ]
    }
   ],
   "source": [
    "totalAverageRating = s/c\n",
    "print(totalAverageRating)"
   ]
  },
  {
   "cell_type": "code",
   "execution_count": 9,
   "metadata": {
    "collapsed": true
   },
   "outputs": [],
   "source": [
    "trainingSet = data.filter(lambda x: (x[\"timestamp\"] % 5 != 0))\n",
    "validationSet = data.filter(lambda x: (x[\"timestamp\"] % 5 == 0))"
   ]
  },
  {
   "cell_type": "code",
   "execution_count": 10,
   "metadata": {
    "collapsed": true
   },
   "outputs": [],
   "source": [
    "def f(a,b):\n",
    "    rating = b[\"rating\"]\n",
    "    current = a.get(b[\"userId\"], -1)\n",
    "    if (current == -1):\n",
    "        a[b[\"userId\"]] = 0\n",
    "    \n",
    "    a[b[\"userId\"]] += rating\n",
    "    return a\n",
    "\n",
    "def g(a,b):\n",
    "    if ((isinstance(b,dict)) & (isinstance(a,dict))):\n",
    "        for k,v in b.items():\n",
    "            current = a.get(k, -1)\n",
    "            if (current == -1):\n",
    "                a[k] = v\n",
    "            else:\n",
    "                a[k] += v\n",
    "\n",
    "    return a"
   ]
  },
  {
   "cell_type": "code",
   "execution_count": 11,
   "metadata": {
    "collapsed": true
   },
   "outputs": [],
   "source": [
    "trainingUsersRatingSums = trainingSet.aggregate(dict(), f, g)"
   ]
  },
  {
   "cell_type": "code",
   "execution_count": 12,
   "metadata": {
    "scrolled": true
   },
   "outputs": [
    {
     "name": "stdout",
     "output_type": "stream",
     "text": [
      "-0.03223097716801249\n"
     ]
    }
   ],
   "source": [
    "trainingUsersRatingBiases = {}\n",
    "\n",
    "for k,v in trainingUsersRatingSums.items():\n",
    "    trainingUsersRatingBiases[k] = (v / userToNRatings[k]) - totalAverageRating\n",
    "    \n",
    "print(trainingUsersRatingBiases[138493])"
   ]
  },
  {
   "cell_type": "code",
   "execution_count": 13,
   "metadata": {
    "collapsed": true
   },
   "outputs": [],
   "source": [
    "avgUserBias = sum(trainingUsersRatingBiases.values()) / len(trainingUsersRatingBiases)"
   ]
  },
  {
   "cell_type": "code",
   "execution_count": 14,
   "metadata": {
    "collapsed": true
   },
   "outputs": [],
   "source": [
    "def f(a,b):\n",
    "    rating = b[\"rating\"]\n",
    "    current = a.get(b[\"movieId\"], -1)\n",
    "    if (current == -1):\n",
    "        a[b[\"movieId\"]] = 0\n",
    "    \n",
    "    a[b[\"movieId\"]] += rating - trainingUsersRatingBiases[b[\"userId\"]]\n",
    "    return a\n",
    "\n",
    "trainingMoviesSums = trainingSet.aggregate(dict(), f, g)"
   ]
  },
  {
   "cell_type": "code",
   "execution_count": 15,
   "metadata": {
    "collapsed": true
   },
   "outputs": [],
   "source": [
    "trainingMovieBiases = {}\n",
    "\n",
    "for k,v in trainingMoviesSums.items():\n",
    "    trainingMovieBiases[k] = (v / movieToNRatings[k]) - totalAverageRating"
   ]
  },
  {
   "cell_type": "code",
   "execution_count": 16,
   "metadata": {
    "collapsed": true
   },
   "outputs": [],
   "source": [
    "avgMovieBias = sum(trainingMovieBiases.values()) / len(trainingMovieBiases)"
   ]
  },
  {
   "cell_type": "code",
   "execution_count": 17,
   "metadata": {
    "collapsed": true
   },
   "outputs": [],
   "source": [
    "def error(data, user=\"userId\", product=\"movieId\", rating=\"rating\"):\n",
    "    def f(a,b):\n",
    "        r = b[rating]\n",
    "        current = a.get(b[user], -1)\n",
    "        if (current == -1):\n",
    "            a[b[user]] = 0\n",
    "        \n",
    "        mBias = trainingMovieBiases.get(b[product], avgMovieBias)\n",
    "        uBias = trainingUsersRatingBiases.get(b[user], avgUserBias)\n",
    "        err = r - (totalAverageRating + mBias + uBias)\n",
    "        \n",
    "        a[b[user]] += err * err\n",
    "        return a\n",
    "\n",
    "    errorSums = data.aggregate(dict(), f, g)\n",
    "    errorAverages = {}\n",
    "\n",
    "    for k,v in errorSums.items():\n",
    "        errorAverages[k] = math.sqrt(v / userToNRatings[k])\n",
    "        \n",
    "    return sum(errorAverages.values()) / len(errorAverages)"
   ]
  },
  {
   "cell_type": "code",
   "execution_count": 18,
   "metadata": {},
   "outputs": [
    {
     "data": {
      "text/plain": [
       "0.5694905425665281"
      ]
     },
     "execution_count": 18,
     "metadata": {},
     "output_type": "execute_result"
    }
   ],
   "source": [
    "error(validationSet)"
   ]
  },
  {
   "cell_type": "code",
   "execution_count": 19,
   "metadata": {},
   "outputs": [
    {
     "name": "stdout",
     "output_type": "stream",
     "text": [
      "-0.23377937321896244\n",
      "-0.6239510801330977\n"
     ]
    }
   ],
   "source": [
    "print(avgMovieBias)\n",
    "print(avgUserBias)"
   ]
  },
  {
   "cell_type": "code",
   "execution_count": 20,
   "metadata": {
    "collapsed": true
   },
   "outputs": [],
   "source": [
    "from pyspark.mllib.recommendation import ALS, MatrixFactorizationModel, Rating"
   ]
  },
  {
   "cell_type": "code",
   "execution_count": 21,
   "metadata": {
    "collapsed": true
   },
   "outputs": [],
   "source": [
    "def errorTuples(data):\n",
    "    def f(a,b):\n",
    "        r = b[2]\n",
    "        current = a.get(b[0], -1)\n",
    "        if (current == -1):\n",
    "            a[b[0]] = 0\n",
    "        \n",
    "        mBias = trainingMovieBiases.get(b[1], avgMovieBias)\n",
    "        uBias = trainingUsersRatingBiases.get(b[0], avgUserBias)\n",
    "        err = r - (totalAverageRating + mBias + uBias)\n",
    "        \n",
    "        a[b[0]] += err * err\n",
    "        return a\n",
    "\n",
    "    errorSums = data.aggregate(dict(), f, g)\n",
    "    errorAverages = {}\n",
    "\n",
    "    for k,v in errorSums.items():\n",
    "        errorAverages[k] = math.sqrt(v / userToNRatings[k])\n",
    "        \n",
    "    return sum(errorAverages.values()) / len(errorAverages)"
   ]
  },
  {
   "cell_type": "code",
   "execution_count": null,
   "metadata": {
    "collapsed": true
   },
   "outputs": [],
   "source": []
  },
  {
   "cell_type": "code",
   "execution_count": 22,
   "metadata": {
    "collapsed": true
   },
   "outputs": [],
   "source": [
    "def evaluateModel(rank, numIterations, lmbda):\n",
    "    # Load and parse the data\n",
    "    ratings = trainingSet.map(lambda l: Rating(l['userId'], l['movieId'], l['rating']))\n",
    "    testdata = validationSet.map(lambda l: (l['userId'], l['movieId']))\n",
    "    # Build the recommendation model using Alternating Least Squares\n",
    "    model = ALS.train(ratings, rank, numIterations, lmbda)\n",
    "\n",
    "    # Evaluate the model on training data\n",
    "    predictions = model.predictAll(testdata)\n",
    "    return errorTuples(predictions)"
   ]
  },
  {
   "cell_type": "code",
   "execution_count": 23,
   "metadata": {},
   "outputs": [],
   "source": [
    "#evaluateModel(5, 10, 10**-4)"
   ]
  },
  {
   "cell_type": "code",
   "execution_count": 24,
   "metadata": {
    "collapsed": true
   },
   "outputs": [],
   "source": [
    "#evaluateModel(5, 10, 10.0)"
   ]
  },
  {
   "cell_type": "code",
   "execution_count": 25,
   "metadata": {
    "collapsed": true
   },
   "outputs": [],
   "source": [
    "#evaluateModel(5, 10, 10**-1)"
   ]
  },
  {
   "cell_type": "code",
   "execution_count": 26,
   "metadata": {
    "collapsed": true
   },
   "outputs": [],
   "source": [
    "#evaluateModel(5, 10, 1.0)"
   ]
  },
  {
   "cell_type": "code",
   "execution_count": 27,
   "metadata": {},
   "outputs": [
    {
     "data": {
      "text/plain": [
       "0.10175810936134991"
      ]
     },
     "execution_count": 27,
     "metadata": {},
     "output_type": "execute_result"
    }
   ],
   "source": [
    "evaluateModel(5, 10, 0.9)"
   ]
  },
  {
   "cell_type": "code",
   "execution_count": 28,
   "metadata": {},
   "outputs": [
    {
     "name": "stdout",
     "output_type": "stream",
     "text": [
      "{\"genres\": [\"(no genres listed)\"], \"movieId\": 131260, \"title\": \"Rentun Ruusu (2001)\"}\r\n",
      "{\"genres\": [\"Adventure\", \"Fantasy\", \"Horror\"], \"movieId\": 131262, \"title\": \"Innocence (2014)\"}\r\n"
     ]
    }
   ],
   "source": [
    "!hdfs dfs -cat /ix/ml-20m/movies.txt | tail -n 2"
   ]
  },
  {
   "cell_type": "code",
   "execution_count": 29,
   "metadata": {
    "collapsed": true
   },
   "outputs": [],
   "source": [
    "titleData = dict(sc.textFile(\"/ix/ml-20m/movies.txt\").map(json.loads).map(lambda x: (x['movieId'], x['title'])).collect())"
   ]
  },
  {
   "cell_type": "code",
   "execution_count": 30,
   "metadata": {},
   "outputs": [
    {
     "data": {
      "text/plain": [
       "'Toy Story (1995)'"
      ]
     },
     "execution_count": 30,
     "metadata": {},
     "output_type": "execute_result"
    }
   ],
   "source": [
    "titleData[1]"
   ]
  },
  {
   "cell_type": "code",
   "execution_count": 53,
   "metadata": {},
   "outputs": [],
   "source": [
    "# Load and parse the data\n",
    "f = open(\"my-ratings.txt\")\n",
    "t = [(int(l.split(\" \")[3][:-1]), int(l.split(\" \")[1][:-1]), int(l.split(\" \")[7][:-2])) for l in f.readlines()]\n",
    "rdd = sc.parallelize(t).map(lambda x: Rating(x[0], x[1], x[2]))\n",
    "ratings = data.map(lambda l: Rating(l['userId'], l['movieId'], l['rating'])).union(rdd)\n",
    "# Build the recommendation model using Alternating Least Squares\n",
    "model = ALS.train(ratings, 10, 10, 0.1)\n",
    "\n",
    "# Evaluate the model on training data\n",
    "predictions = model.recommendProducts(123, 10)\n",
    "myPredictions = model.recommendProducts(138494, 10)"
   ]
  },
  {
   "cell_type": "code",
   "execution_count": 54,
   "metadata": {},
   "outputs": [
    {
     "name": "stdout",
     "output_type": "stream",
     "text": [
      "['Marihuana (1936)', 'Bill Hicks: Sane Man (1989)', 'My Brother Tom (2001)', 'I Belong (Som du ser meg) (2012)', 'Bo Burnham: what. (2013)', 'Fitzgerald Family Christmas, The (2012)', 'Peppermint Soda (Diabolo menthe) (1977)', 'Diplomatic Immunity (2009– )', 'Island at War (2004)', 'Sierra, La (2005)']\n"
     ]
    }
   ],
   "source": [
    "titles = [titleData[x[1]] for x in predictions]\n",
    "print(titles)"
   ]
  },
  {
   "cell_type": "code",
   "execution_count": 55,
   "metadata": {},
   "outputs": [
    {
     "name": "stdout",
     "output_type": "stream",
     "text": [
      "['No Distance Left to Run (2010)', 'Code Name Coq Rouge (1989)', 'Crazy Stone (Fengkuang de shitou) (2006)', 'Homeboy (1988)', 'Tito and Me (Tito i ja) (1992)', \"Ain't in It for My Health: A Film About Levon Helm (2013)\", 'Bela Kiss: Prologue (2013)', 'Tom Segura: Completely Normal (2014)', 'Chameleon (Kaméleon) (2008)', 'Willie & Phil (1980)']\n"
     ]
    }
   ],
   "source": [
    "myTitles = [titleData[x[1]] for x in myPredictions]\n",
    "print(myTitles)"
   ]
  },
  {
   "cell_type": "code",
   "execution_count": 56,
   "metadata": {},
   "outputs": [
    {
     "name": "stdout",
     "output_type": "stream",
     "text": [
      "[Rating(user=123, product=126219, rating=5.396886707552426), Rating(user=123, product=130347, rating=4.861697502324844), Rating(user=123, product=117907, rating=4.631412897837729), Rating(user=123, product=112423, rating=4.620398668677047), Rating(user=123, product=116951, rating=4.619680040934755), Rating(user=123, product=98834, rating=4.600453282163684), Rating(user=123, product=98595, rating=4.578306385943188), Rating(user=123, product=107434, rating=4.57203471800904), Rating(user=123, product=107252, rating=4.57203471800904), Rating(user=123, product=54326, rating=4.540245331244707)]\n",
      "[Rating(user=138494, product=121029, rating=5.879015571957286), Rating(user=138494, product=129536, rating=5.789813086256158), Rating(user=138494, product=77736, rating=5.425567760197204), Rating(user=138494, product=122290, rating=5.379841796551832), Rating(user=138494, product=26793, rating=5.159676995108968), Rating(user=138494, product=117525, rating=5.146577983000588), Rating(user=138494, product=95595, rating=5.0388509776266215), Rating(user=138494, product=128914, rating=5.021267526131343), Rating(user=138494, product=96435, rating=4.9586857116553436), Rating(user=138494, product=112577, rating=4.920804855153091)]\n"
     ]
    }
   ],
   "source": [
    "print(predictions)\n",
    "print(myPredictions)"
   ]
  },
  {
   "cell_type": "code",
   "execution_count": null,
   "metadata": {
    "collapsed": true
   },
   "outputs": [],
   "source": []
  }
 ],
 "metadata": {
  "anaconda-cloud": {},
  "kernelspec": {
   "display_name": "Python 3",
   "language": "python",
   "name": "python3"
  },
  "language_info": {
   "codemirror_mode": {
    "name": "ipython",
    "version": 3
   },
   "file_extension": ".py",
   "mimetype": "text/x-python",
   "name": "python",
   "nbconvert_exporter": "python",
   "pygments_lexer": "ipython3",
   "version": "3.6.3"
  }
 },
 "nbformat": 4,
 "nbformat_minor": 1
}
