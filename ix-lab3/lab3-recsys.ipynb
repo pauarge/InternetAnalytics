{
 "cells": [
  {
   "cell_type": "markdown",
   "metadata": {},
   "source": [
    "# Lab 3 — recommender systems"
   ]
  },
  {
   "cell_type": "code",
   "execution_count": 1,
   "metadata": {
    "collapsed": true
   },
   "outputs": [],
   "source": [
    "import json\n",
    "import matplotlib.pyplot as plt\n",
    "import numpy as np\n",
    "import math\n",
    "import pickle\n",
    "import pandas as pd\n",
    "\n",
    "from operator import itemgetter\n",
    "\n",
    "from operator import add\n",
    "from collections import Counter\n",
    "\n",
    "from bokeh.io import show, output_notebook\n",
    "from bokeh.plotting import figure, ColumnDataSource\n",
    "from bokeh.models import HoverTool, ResetTool, PanTool, WheelZoomTool, SaveTool\n",
    "from bokeh.models import ColumnDataSource, Range1d, LabelSet, Label"
   ]
  },
  {
   "cell_type": "code",
   "execution_count": 2,
   "metadata": {},
   "outputs": [
    {
     "data": {
      "text/html": [
       "\n",
       "    <div class=\"bk-root\">\n",
       "        <a href=\"https://bokeh.pydata.org\" target=\"_blank\" class=\"bk-logo bk-logo-small bk-logo-notebook\"></a>\n",
       "        <span id=\"5172f2e5-db82-4644-b19f-0113fb94eb76\">Loading BokehJS ...</span>\n",
       "    </div>"
      ]
     },
     "metadata": {},
     "output_type": "display_data"
    },
    {
     "data": {
      "application/javascript": [
       "\n",
       "(function(root) {\n",
       "  function now() {\n",
       "    return new Date();\n",
       "  }\n",
       "\n",
       "  var force = true;\n",
       "\n",
       "  if (typeof (root._bokeh_onload_callbacks) === \"undefined\" || force === true) {\n",
       "    root._bokeh_onload_callbacks = [];\n",
       "    root._bokeh_is_loading = undefined;\n",
       "  }\n",
       "\n",
       "  var JS_MIME_TYPE = 'application/javascript';\n",
       "  var HTML_MIME_TYPE = 'text/html';\n",
       "  var EXEC_MIME_TYPE = 'application/vnd.bokehjs_exec.v0+json';\n",
       "  var CLASS_NAME = 'output_bokeh rendered_html';\n",
       "\n",
       "  /**\n",
       "   * Render data to the DOM node\n",
       "   */\n",
       "  function render(props, node) {\n",
       "    var script = document.createElement(\"script\");\n",
       "    node.appendChild(script);\n",
       "  }\n",
       "\n",
       "  /**\n",
       "   * Handle when an output is cleared or removed\n",
       "   */\n",
       "  function handleClearOutput(event, handle) {\n",
       "    var cell = handle.cell;\n",
       "\n",
       "    var id = cell.output_area._bokeh_element_id;\n",
       "    var server_id = cell.output_area._bokeh_server_id;\n",
       "    // Clean up Bokeh references\n",
       "    if (id !== undefined) {\n",
       "      Bokeh.index[id].model.document.clear();\n",
       "      delete Bokeh.index[id];\n",
       "    }\n",
       "\n",
       "    if (server_id !== undefined) {\n",
       "      // Clean up Bokeh references\n",
       "      var cmd = \"from bokeh.io.state import curstate; print(curstate().uuid_to_server['\" + server_id + \"'].get_sessions()[0].document.roots[0]._id)\";\n",
       "      cell.notebook.kernel.execute(cmd, {\n",
       "        iopub: {\n",
       "          output: function(msg) {\n",
       "            var element_id = msg.content.text.trim();\n",
       "            Bokeh.index[element_id].model.document.clear();\n",
       "            delete Bokeh.index[element_id];\n",
       "          }\n",
       "        }\n",
       "      });\n",
       "      // Destroy server and session\n",
       "      var cmd = \"import bokeh.io.notebook as ion; ion.destroy_server('\" + server_id + \"')\";\n",
       "      cell.notebook.kernel.execute(cmd);\n",
       "    }\n",
       "  }\n",
       "\n",
       "  /**\n",
       "   * Handle when a new output is added\n",
       "   */\n",
       "  function handleAddOutput(event, handle) {\n",
       "    var output_area = handle.output_area;\n",
       "    var output = handle.output;\n",
       "\n",
       "    // limit handleAddOutput to display_data with EXEC_MIME_TYPE content only\n",
       "    if ((output.output_type != \"display_data\") || (!output.data.hasOwnProperty(EXEC_MIME_TYPE))) {\n",
       "      return\n",
       "    }\n",
       "\n",
       "    var toinsert = output_area.element.find(`.${CLASS_NAME.split(' ')[0]}`);\n",
       "\n",
       "    if (output.metadata[EXEC_MIME_TYPE][\"id\"] !== undefined) {\n",
       "      toinsert[0].firstChild.textContent = output.data[JS_MIME_TYPE];\n",
       "      // store reference to embed id on output_area\n",
       "      output_area._bokeh_element_id = output.metadata[EXEC_MIME_TYPE][\"id\"];\n",
       "    }\n",
       "    if (output.metadata[EXEC_MIME_TYPE][\"server_id\"] !== undefined) {\n",
       "      var bk_div = document.createElement(\"div\");\n",
       "      bk_div.innerHTML = output.data[HTML_MIME_TYPE];\n",
       "      var script_attrs = bk_div.children[0].attributes;\n",
       "      for (var i = 0; i < script_attrs.length; i++) {\n",
       "        toinsert[0].firstChild.setAttribute(script_attrs[i].name, script_attrs[i].value);\n",
       "      }\n",
       "      // store reference to server id on output_area\n",
       "      output_area._bokeh_server_id = output.metadata[EXEC_MIME_TYPE][\"server_id\"];\n",
       "    }\n",
       "  }\n",
       "\n",
       "  function register_renderer(events, OutputArea) {\n",
       "\n",
       "    function append_mime(data, metadata, element) {\n",
       "      // create a DOM node to render to\n",
       "      var toinsert = this.create_output_subarea(\n",
       "        metadata,\n",
       "        CLASS_NAME,\n",
       "        EXEC_MIME_TYPE\n",
       "      );\n",
       "      this.keyboard_manager.register_events(toinsert);\n",
       "      // Render to node\n",
       "      var props = {data: data, metadata: metadata[EXEC_MIME_TYPE]};\n",
       "      render(props, toinsert[0]);\n",
       "      element.append(toinsert);\n",
       "      return toinsert\n",
       "    }\n",
       "\n",
       "    /* Handle when an output is cleared or removed */\n",
       "    events.on('clear_output.CodeCell', handleClearOutput);\n",
       "    events.on('delete.Cell', handleClearOutput);\n",
       "\n",
       "    /* Handle when a new output is added */\n",
       "    events.on('output_added.OutputArea', handleAddOutput);\n",
       "\n",
       "    /**\n",
       "     * Register the mime type and append_mime function with output_area\n",
       "     */\n",
       "    OutputArea.prototype.register_mime_type(EXEC_MIME_TYPE, append_mime, {\n",
       "      /* Is output safe? */\n",
       "      safe: true,\n",
       "      /* Index of renderer in `output_area.display_order` */\n",
       "      index: 0\n",
       "    });\n",
       "  }\n",
       "\n",
       "  // register the mime type if in Jupyter Notebook environment and previously unregistered\n",
       "  if (root.Jupyter !== undefined) {\n",
       "    var events = require('base/js/events');\n",
       "    var OutputArea = require('notebook/js/outputarea').OutputArea;\n",
       "\n",
       "    if (OutputArea.prototype.mime_types().indexOf(EXEC_MIME_TYPE) == -1) {\n",
       "      register_renderer(events, OutputArea);\n",
       "    }\n",
       "  }\n",
       "\n",
       "  \n",
       "  if (typeof (root._bokeh_timeout) === \"undefined\" || force === true) {\n",
       "    root._bokeh_timeout = Date.now() + 5000;\n",
       "    root._bokeh_failed_load = false;\n",
       "  }\n",
       "\n",
       "  var NB_LOAD_WARNING = {'data': {'text/html':\n",
       "     \"<div style='background-color: #fdd'>\\n\"+\n",
       "     \"<p>\\n\"+\n",
       "     \"BokehJS does not appear to have successfully loaded. If loading BokehJS from CDN, this \\n\"+\n",
       "     \"may be due to a slow or bad network connection. Possible fixes:\\n\"+\n",
       "     \"</p>\\n\"+\n",
       "     \"<ul>\\n\"+\n",
       "     \"<li>re-rerun `output_notebook()` to attempt to load from CDN again, or</li>\\n\"+\n",
       "     \"<li>use INLINE resources instead, as so:</li>\\n\"+\n",
       "     \"</ul>\\n\"+\n",
       "     \"<code>\\n\"+\n",
       "     \"from bokeh.resources import INLINE\\n\"+\n",
       "     \"output_notebook(resources=INLINE)\\n\"+\n",
       "     \"</code>\\n\"+\n",
       "     \"</div>\"}};\n",
       "\n",
       "  function display_loaded() {\n",
       "    var el = document.getElementById(\"5172f2e5-db82-4644-b19f-0113fb94eb76\");\n",
       "    if (el != null) {\n",
       "      el.textContent = \"BokehJS is loading...\";\n",
       "    }\n",
       "    if (root.Bokeh !== undefined) {\n",
       "      if (el != null) {\n",
       "        el.textContent = \"BokehJS \" + root.Bokeh.version + \" successfully loaded.\";\n",
       "      }\n",
       "    } else if (Date.now() < root._bokeh_timeout) {\n",
       "      setTimeout(display_loaded, 100)\n",
       "    }\n",
       "  }\n",
       "\n",
       "\n",
       "  function run_callbacks() {\n",
       "    try {\n",
       "      root._bokeh_onload_callbacks.forEach(function(callback) { callback() });\n",
       "    }\n",
       "    finally {\n",
       "      delete root._bokeh_onload_callbacks\n",
       "    }\n",
       "    console.info(\"Bokeh: all callbacks have finished\");\n",
       "  }\n",
       "\n",
       "  function load_libs(js_urls, callback) {\n",
       "    root._bokeh_onload_callbacks.push(callback);\n",
       "    if (root._bokeh_is_loading > 0) {\n",
       "      console.log(\"Bokeh: BokehJS is being loaded, scheduling callback at\", now());\n",
       "      return null;\n",
       "    }\n",
       "    if (js_urls == null || js_urls.length === 0) {\n",
       "      run_callbacks();\n",
       "      return null;\n",
       "    }\n",
       "    console.log(\"Bokeh: BokehJS not loaded, scheduling load and callback at\", now());\n",
       "    root._bokeh_is_loading = js_urls.length;\n",
       "    for (var i = 0; i < js_urls.length; i++) {\n",
       "      var url = js_urls[i];\n",
       "      var s = document.createElement('script');\n",
       "      s.src = url;\n",
       "      s.async = false;\n",
       "      s.onreadystatechange = s.onload = function() {\n",
       "        root._bokeh_is_loading--;\n",
       "        if (root._bokeh_is_loading === 0) {\n",
       "          console.log(\"Bokeh: all BokehJS libraries loaded\");\n",
       "          run_callbacks()\n",
       "        }\n",
       "      };\n",
       "      s.onerror = function() {\n",
       "        console.warn(\"failed to load library \" + url);\n",
       "      };\n",
       "      console.log(\"Bokeh: injecting script tag for BokehJS library: \", url);\n",
       "      document.getElementsByTagName(\"head\")[0].appendChild(s);\n",
       "    }\n",
       "  };var element = document.getElementById(\"5172f2e5-db82-4644-b19f-0113fb94eb76\");\n",
       "  if (element == null) {\n",
       "    console.log(\"Bokeh: ERROR: autoload.js configured with elementid '5172f2e5-db82-4644-b19f-0113fb94eb76' but no matching script tag was found. \")\n",
       "    return false;\n",
       "  }\n",
       "\n",
       "  var js_urls = [\"https://cdn.pydata.org/bokeh/release/bokeh-0.12.10.min.js\", \"https://cdn.pydata.org/bokeh/release/bokeh-widgets-0.12.10.min.js\", \"https://cdn.pydata.org/bokeh/release/bokeh-tables-0.12.10.min.js\", \"https://cdn.pydata.org/bokeh/release/bokeh-gl-0.12.10.min.js\"];\n",
       "\n",
       "  var inline_js = [\n",
       "    function(Bokeh) {\n",
       "      Bokeh.set_log_level(\"info\");\n",
       "    },\n",
       "    \n",
       "    function(Bokeh) {\n",
       "      \n",
       "    },\n",
       "    function(Bokeh) {\n",
       "      console.log(\"Bokeh: injecting CSS: https://cdn.pydata.org/bokeh/release/bokeh-0.12.10.min.css\");\n",
       "      Bokeh.embed.inject_css(\"https://cdn.pydata.org/bokeh/release/bokeh-0.12.10.min.css\");\n",
       "      console.log(\"Bokeh: injecting CSS: https://cdn.pydata.org/bokeh/release/bokeh-widgets-0.12.10.min.css\");\n",
       "      Bokeh.embed.inject_css(\"https://cdn.pydata.org/bokeh/release/bokeh-widgets-0.12.10.min.css\");\n",
       "      console.log(\"Bokeh: injecting CSS: https://cdn.pydata.org/bokeh/release/bokeh-tables-0.12.10.min.css\");\n",
       "      Bokeh.embed.inject_css(\"https://cdn.pydata.org/bokeh/release/bokeh-tables-0.12.10.min.css\");\n",
       "    }\n",
       "  ];\n",
       "\n",
       "  function run_inline_js() {\n",
       "    \n",
       "    if ((root.Bokeh !== undefined) || (force === true)) {\n",
       "      for (var i = 0; i < inline_js.length; i++) {\n",
       "        inline_js[i].call(root, root.Bokeh);\n",
       "      }if (force === true) {\n",
       "        display_loaded();\n",
       "      }} else if (Date.now() < root._bokeh_timeout) {\n",
       "      setTimeout(run_inline_js, 100);\n",
       "    } else if (!root._bokeh_failed_load) {\n",
       "      console.log(\"Bokeh: BokehJS failed to load within specified timeout.\");\n",
       "      root._bokeh_failed_load = true;\n",
       "    } else if (force !== true) {\n",
       "      var cell = $(document.getElementById(\"5172f2e5-db82-4644-b19f-0113fb94eb76\")).parents('.cell').data().cell;\n",
       "      cell.output_area.append_execute_result(NB_LOAD_WARNING)\n",
       "    }\n",
       "\n",
       "  }\n",
       "\n",
       "  if (root._bokeh_is_loading === 0) {\n",
       "    console.log(\"Bokeh: BokehJS loaded, going straight to plotting\");\n",
       "    run_inline_js();\n",
       "  } else {\n",
       "    load_libs(js_urls, function() {\n",
       "      console.log(\"Bokeh: BokehJS plotting callback run at\", now());\n",
       "      run_inline_js();\n",
       "    });\n",
       "  }\n",
       "}(window));"
      ],
      "application/vnd.bokehjs_load.v0+json": "\n(function(root) {\n  function now() {\n    return new Date();\n  }\n\n  var force = true;\n\n  if (typeof (root._bokeh_onload_callbacks) === \"undefined\" || force === true) {\n    root._bokeh_onload_callbacks = [];\n    root._bokeh_is_loading = undefined;\n  }\n\n  \n\n  \n  if (typeof (root._bokeh_timeout) === \"undefined\" || force === true) {\n    root._bokeh_timeout = Date.now() + 5000;\n    root._bokeh_failed_load = false;\n  }\n\n  var NB_LOAD_WARNING = {'data': {'text/html':\n     \"<div style='background-color: #fdd'>\\n\"+\n     \"<p>\\n\"+\n     \"BokehJS does not appear to have successfully loaded. If loading BokehJS from CDN, this \\n\"+\n     \"may be due to a slow or bad network connection. Possible fixes:\\n\"+\n     \"</p>\\n\"+\n     \"<ul>\\n\"+\n     \"<li>re-rerun `output_notebook()` to attempt to load from CDN again, or</li>\\n\"+\n     \"<li>use INLINE resources instead, as so:</li>\\n\"+\n     \"</ul>\\n\"+\n     \"<code>\\n\"+\n     \"from bokeh.resources import INLINE\\n\"+\n     \"output_notebook(resources=INLINE)\\n\"+\n     \"</code>\\n\"+\n     \"</div>\"}};\n\n  function display_loaded() {\n    var el = document.getElementById(\"5172f2e5-db82-4644-b19f-0113fb94eb76\");\n    if (el != null) {\n      el.textContent = \"BokehJS is loading...\";\n    }\n    if (root.Bokeh !== undefined) {\n      if (el != null) {\n        el.textContent = \"BokehJS \" + root.Bokeh.version + \" successfully loaded.\";\n      }\n    } else if (Date.now() < root._bokeh_timeout) {\n      setTimeout(display_loaded, 100)\n    }\n  }\n\n\n  function run_callbacks() {\n    try {\n      root._bokeh_onload_callbacks.forEach(function(callback) { callback() });\n    }\n    finally {\n      delete root._bokeh_onload_callbacks\n    }\n    console.info(\"Bokeh: all callbacks have finished\");\n  }\n\n  function load_libs(js_urls, callback) {\n    root._bokeh_onload_callbacks.push(callback);\n    if (root._bokeh_is_loading > 0) {\n      console.log(\"Bokeh: BokehJS is being loaded, scheduling callback at\", now());\n      return null;\n    }\n    if (js_urls == null || js_urls.length === 0) {\n      run_callbacks();\n      return null;\n    }\n    console.log(\"Bokeh: BokehJS not loaded, scheduling load and callback at\", now());\n    root._bokeh_is_loading = js_urls.length;\n    for (var i = 0; i < js_urls.length; i++) {\n      var url = js_urls[i];\n      var s = document.createElement('script');\n      s.src = url;\n      s.async = false;\n      s.onreadystatechange = s.onload = function() {\n        root._bokeh_is_loading--;\n        if (root._bokeh_is_loading === 0) {\n          console.log(\"Bokeh: all BokehJS libraries loaded\");\n          run_callbacks()\n        }\n      };\n      s.onerror = function() {\n        console.warn(\"failed to load library \" + url);\n      };\n      console.log(\"Bokeh: injecting script tag for BokehJS library: \", url);\n      document.getElementsByTagName(\"head\")[0].appendChild(s);\n    }\n  };var element = document.getElementById(\"5172f2e5-db82-4644-b19f-0113fb94eb76\");\n  if (element == null) {\n    console.log(\"Bokeh: ERROR: autoload.js configured with elementid '5172f2e5-db82-4644-b19f-0113fb94eb76' but no matching script tag was found. \")\n    return false;\n  }\n\n  var js_urls = [\"https://cdn.pydata.org/bokeh/release/bokeh-0.12.10.min.js\", \"https://cdn.pydata.org/bokeh/release/bokeh-widgets-0.12.10.min.js\", \"https://cdn.pydata.org/bokeh/release/bokeh-tables-0.12.10.min.js\", \"https://cdn.pydata.org/bokeh/release/bokeh-gl-0.12.10.min.js\"];\n\n  var inline_js = [\n    function(Bokeh) {\n      Bokeh.set_log_level(\"info\");\n    },\n    \n    function(Bokeh) {\n      \n    },\n    function(Bokeh) {\n      console.log(\"Bokeh: injecting CSS: https://cdn.pydata.org/bokeh/release/bokeh-0.12.10.min.css\");\n      Bokeh.embed.inject_css(\"https://cdn.pydata.org/bokeh/release/bokeh-0.12.10.min.css\");\n      console.log(\"Bokeh: injecting CSS: https://cdn.pydata.org/bokeh/release/bokeh-widgets-0.12.10.min.css\");\n      Bokeh.embed.inject_css(\"https://cdn.pydata.org/bokeh/release/bokeh-widgets-0.12.10.min.css\");\n      console.log(\"Bokeh: injecting CSS: https://cdn.pydata.org/bokeh/release/bokeh-tables-0.12.10.min.css\");\n      Bokeh.embed.inject_css(\"https://cdn.pydata.org/bokeh/release/bokeh-tables-0.12.10.min.css\");\n    }\n  ];\n\n  function run_inline_js() {\n    \n    if ((root.Bokeh !== undefined) || (force === true)) {\n      for (var i = 0; i < inline_js.length; i++) {\n        inline_js[i].call(root, root.Bokeh);\n      }if (force === true) {\n        display_loaded();\n      }} else if (Date.now() < root._bokeh_timeout) {\n      setTimeout(run_inline_js, 100);\n    } else if (!root._bokeh_failed_load) {\n      console.log(\"Bokeh: BokehJS failed to load within specified timeout.\");\n      root._bokeh_failed_load = true;\n    } else if (force !== true) {\n      var cell = $(document.getElementById(\"5172f2e5-db82-4644-b19f-0113fb94eb76\")).parents('.cell').data().cell;\n      cell.output_area.append_execute_result(NB_LOAD_WARNING)\n    }\n\n  }\n\n  if (root._bokeh_is_loading === 0) {\n    console.log(\"Bokeh: BokehJS loaded, going straight to plotting\");\n    run_inline_js();\n  } else {\n    load_libs(js_urls, function() {\n      console.log(\"Bokeh: BokehJS plotting callback run at\", now());\n      run_inline_js();\n    });\n  }\n}(window));"
     },
     "metadata": {},
     "output_type": "display_data"
    }
   ],
   "source": [
    "%matplotlib inline\n",
    "plt.style.use(\"ggplot\")\n",
    "\n",
    "output_notebook()\n",
    "\n",
    "sqlContext = SQLContext(sc)"
   ]
  },
  {
   "cell_type": "markdown",
   "metadata": {},
   "source": [
    "What does the data look like?"
   ]
  },
  {
   "cell_type": "code",
   "execution_count": 3,
   "metadata": {},
   "outputs": [
    {
     "name": "stdout",
     "output_type": "stream",
     "text": [
      "{\"movieId\": 70286, \"userId\": 138493, \"timestamp\": 1258126944, \"rating\": 5.0}\r\n",
      "{\"movieId\": 71619, \"userId\": 138493, \"timestamp\": 1255811136, \"rating\": 2.5}\r\n"
     ]
    }
   ],
   "source": [
    "!hdfs dfs -cat /ix/ml-20m/ratings.txt | tail -n 2"
   ]
  },
  {
   "cell_type": "markdown",
   "metadata": {},
   "source": [
    "## Exercise 3.4"
   ]
  },
  {
   "cell_type": "code",
   "execution_count": 4,
   "metadata": {
    "collapsed": true
   },
   "outputs": [],
   "source": [
    "data = sc.textFile(\"/ix/ml-20m/ratings.txt\").map(json.loads)"
   ]
  },
  {
   "cell_type": "code",
   "execution_count": 5,
   "metadata": {
    "collapsed": true
   },
   "outputs": [],
   "source": [
    "# Compute the number of ratings for each user/movie\n",
    "userToNRatings = data.map(lambda x: (x[\"userId\"], 0)).countByKey()\n",
    "movieToNRatings = data.map(lambda x: (x[\"movieId\"], 0)).countByKey()"
   ]
  },
  {
   "cell_type": "code",
   "execution_count": 6,
   "metadata": {},
   "outputs": [
    {
     "data": {
      "image/png": "[encoded data removed]",
      "text/plain": [
       "<matplotlib.figure.Figure at 0x7f7171ba42e8>"
      ]
     },
     "metadata": {},
     "output_type": "display_data"
    }
   ],
   "source": [
    "plt.plot(sorted(userToNRatings.values()))\n",
    "plt.title(\"Plot of the sorted number of ratings per user\")\n",
    "plt.xlabel(\"User number\")\n",
    "plt.ylabel(\"Number of ratings\")\n",
    "plt.show()"
   ]
  },
  {
   "cell_type": "code",
   "execution_count": 7,
   "metadata": {},
   "outputs": [
    {
     "data": {
      "image/png": "[encoded data removed]",
      "text/plain": [
       "<matplotlib.figure.Figure at 0x7f7170cc01d0>"
      ]
     },
     "metadata": {},
     "output_type": "display_data"
    }
   ],
   "source": [
    "plt.plot(sorted(movieToNRatings.values()))\n",
    "plt.title(\"Plot of the sorted number of ratings per movie\")\n",
    "plt.xlabel(\"Movie number\")\n",
    "plt.ylabel(\"Number of ratings\")\n",
    "plt.show()"
   ]
  },
  {
   "cell_type": "markdown",
   "metadata": {},
   "source": [
    "From the ratings graph it is quite clear that most of the ratings are left by few users and that few movies get most of the ratings. The distributions of the number of ratings for users and movies look very similar."
   ]
  },
  {
   "cell_type": "code",
   "execution_count": 8,
   "metadata": {},
   "outputs": [
    {
     "name": "stdout",
     "output_type": "stream",
     "text": [
      "20000263 70511498.5\n"
     ]
    }
   ],
   "source": [
    "# Count the number of ratings and sum all the ratings\n",
    "c,s = data.aggregate((0,0), lambda a,b: (a[0]+1, a[1] + b['rating']), lambda a,b: (a[0]+b[0], a[1]+b[1]))\n",
    "print(c, s)"
   ]
  },
  {
   "cell_type": "code",
   "execution_count": 9,
   "metadata": {},
   "outputs": [
    {
     "name": "stdout",
     "output_type": "stream",
     "text": [
      "3.5255285642993797\n"
     ]
    }
   ],
   "source": [
    "# Compute the average rating\n",
    "totalAverageRating = s/c\n",
    "print(totalAverageRating)"
   ]
  },
  {
   "cell_type": "markdown",
   "metadata": {},
   "source": [
    "## Exercise 3.5"
   ]
  },
  {
   "cell_type": "code",
   "execution_count": 10,
   "metadata": {
    "collapsed": true
   },
   "outputs": [],
   "source": [
    "# Split the data into training set (80%) and validation set(20%) based on the timestamp\n",
    "trainingSet = data.filter(lambda x: (x[\"timestamp\"] % 5 != 0))\n",
    "validationSet = data.filter(lambda x: (x[\"timestamp\"] % 5 == 0))"
   ]
  },
  {
   "cell_type": "markdown",
   "metadata": {},
   "source": [
    "## Exercise 3.6"
   ]
  },
  {
   "cell_type": "code",
   "execution_count": 11,
   "metadata": {
    "collapsed": true
   },
   "outputs": [],
   "source": [
    "# Aggregation functions to compute the sum of the ratings for each user and returning them as a dict\n",
    "\n",
    "# Add the rating to the sum for the user\n",
    "def f(a,b):\n",
    "    rating = b[\"rating\"]\n",
    "    current = a.get(b[\"userId\"], -1)\n",
    "    if (current == -1):\n",
    "        a[b[\"userId\"]] = 0\n",
    "    \n",
    "    a[b[\"userId\"]] += rating\n",
    "    return a\n",
    "\n",
    "# Add two dict accumulators\n",
    "def g(a,b):\n",
    "    if ((isinstance(b,dict)) & (isinstance(a,dict))):\n",
    "        for k,v in b.items():\n",
    "            current = a.get(k, -1)\n",
    "            if (current == -1):\n",
    "                a[k] = v\n",
    "            else:\n",
    "                a[k] += v\n",
    "\n",
    "    return a"
   ]
  },
  {
   "cell_type": "code",
   "execution_count": 12,
   "metadata": {
    "collapsed": true
   },
   "outputs": [],
   "source": [
    "trainingUsersRatingSums = trainingSet.aggregate(dict(), f, g)"
   ]
  },
  {
   "cell_type": "code",
   "execution_count": 13,
   "metadata": {
    "scrolled": true
   },
   "outputs": [
    {
     "name": "stdout",
     "output_type": "stream",
     "text": [
      "-0.03223097716801249\n"
     ]
    }
   ],
   "source": [
    "# Compute the user biases from the sum of their ratings\n",
    "trainingUsersRatingBiases = {}\n",
    "\n",
    "for k,v in trainingUsersRatingSums.items():\n",
    "    trainingUsersRatingBiases[k] = (v / userToNRatings[k]) - totalAverageRating\n",
    "    \n",
    "print(trainingUsersRatingBiases[138493])"
   ]
  },
  {
   "cell_type": "code",
   "execution_count": 14,
   "metadata": {
    "collapsed": true
   },
   "outputs": [],
   "source": [
    "avgUserBias = sum(trainingUsersRatingBiases.values()) / len(trainingUsersRatingBiases)"
   ]
  },
  {
   "cell_type": "code",
   "execution_count": 15,
   "metadata": {
    "collapsed": true
   },
   "outputs": [],
   "source": [
    "# Change the element function of the aggregation to sum movie ratings\n",
    "def f(a,b):\n",
    "    rating = b[\"rating\"]\n",
    "    current = a.get(b[\"movieId\"], -1)\n",
    "    if (current == -1):\n",
    "        a[b[\"movieId\"]] = 0\n",
    "    \n",
    "    a[b[\"movieId\"]] += rating - trainingUsersRatingBiases[b[\"userId\"]]\n",
    "    return a\n",
    "\n",
    "trainingMoviesSums = trainingSet.aggregate(dict(), f, g)"
   ]
  },
  {
   "cell_type": "code",
   "execution_count": 16,
   "metadata": {
    "collapsed": true
   },
   "outputs": [],
   "source": [
    "# Compute the movie biases from their rating sums\n",
    "\n",
    "trainingMovieBiases = {}\n",
    "\n",
    "for k,v in trainingMoviesSums.items():\n",
    "    trainingMovieBiases[k] = (v / movieToNRatings[k]) - totalAverageRating"
   ]
  },
  {
   "cell_type": "code",
   "execution_count": 17,
   "metadata": {
    "collapsed": true
   },
   "outputs": [],
   "source": [
    "avgMovieBias = sum(trainingMovieBiases.values()) / len(trainingMovieBiases)"
   ]
  },
  {
   "cell_type": "markdown",
   "metadata": {},
   "source": [
    "## Excercise 3.7"
   ]
  },
  {
   "cell_type": "code",
   "execution_count": 18,
   "metadata": {
    "collapsed": true
   },
   "outputs": [],
   "source": [
    "# Takes a dictionary type rdd and compares it against the simple prediction model\n",
    "def error(data, user=\"userId\", product=\"movieId\", rating=\"rating\"):\n",
    "    \n",
    "    # Change the aggregation element function to compute the sum of square errors for the predicted ratings of the movies\n",
    "    def f(a,b):\n",
    "        r = b[rating]\n",
    "        current = a.get(b[user], -1)\n",
    "        if (current == -1):\n",
    "            a[b[user]] = 0\n",
    "        \n",
    "        # Use the average movie/user bias if none is available\n",
    "        mBias = trainingMovieBiases.get(b[product], avgMovieBias)\n",
    "        uBias = trainingUsersRatingBiases.get(b[user], avgUserBias)\n",
    "        err = r - (totalAverageRating + mBias + uBias)\n",
    "        \n",
    "        a[b[user]] += err * err\n",
    "        return a\n",
    "\n",
    "    errorSums = data.aggregate(dict(), f, g)\n",
    "    errorAverages = {}\n",
    "\n",
    "    for k,v in errorSums.items():\n",
    "        errorAverages[k] = math.sqrt(v / userToNRatings[k])\n",
    "        \n",
    "    return sum(errorAverages.values()) / len(errorAverages)"
   ]
  },
  {
   "cell_type": "code",
   "execution_count": 19,
   "metadata": {},
   "outputs": [
    {
     "data": {
      "text/plain": [
       "0.5694905425665281"
      ]
     },
     "execution_count": 19,
     "metadata": {},
     "output_type": "execute_result"
    }
   ],
   "source": [
    "error(validationSet)"
   ]
  },
  {
   "cell_type": "markdown",
   "metadata": {},
   "source": [
    "## Exercise 3.8"
   ]
  },
  {
   "cell_type": "code",
   "execution_count": 20,
   "metadata": {
    "collapsed": true
   },
   "outputs": [],
   "source": [
    "from pyspark.mllib.recommendation import ALS, MatrixFactorizationModel, Rating"
   ]
  },
  {
   "cell_type": "code",
   "execution_count": 21,
   "metadata": {
    "collapsed": true
   },
   "outputs": [],
   "source": [
    "# Takes a tuple type rdd containing the ALS predictions and compares against the validation set.\n",
    "def errorTuples(data, comp):\n",
    "    \n",
    "    # Change the aggregation element function to compute the sum of square errors for the predicted ratings of the movies\n",
    "    def f(a,b):\n",
    "        r = b[2]\n",
    "        current = a.get(b[0], -1)\n",
    "        if (current == -1):\n",
    "            a[b[0]] = 0\n",
    "        \n",
    "        # Use the average movie/user bias if none is available\n",
    "        mBias = trainingMovieBiases.get(b[1], avgMovieBias)\n",
    "        uBias = trainingUsersRatingBiases.get(b[0], avgUserBias)\n",
    "        err = r - comp[(b[0], b[1])]\n",
    "        \n",
    "        a[b[0]] += err * err\n",
    "        return a\n",
    "\n",
    "    errorSums = data.aggregate(dict(), f, g)\n",
    "    errorAverages = {}\n",
    "\n",
    "    for k,v in errorSums.items():\n",
    "        errorAverages[k] = math.sqrt(v / userToNRatings[k])\n",
    "        \n",
    "    return sum(errorAverages.values()) / len(errorAverages)"
   ]
  },
  {
   "cell_type": "code",
   "execution_count": 22,
   "metadata": {
    "collapsed": true
   },
   "outputs": [],
   "source": [
    "# Get the validation set in a format that  is easier to work with\n",
    "comp = dict(validationSet.map(lambda l: ((l['userId'], l['movieId']), l['rating'])).collect())"
   ]
  },
  {
   "cell_type": "code",
   "execution_count": 23,
   "metadata": {
    "collapsed": true
   },
   "outputs": [],
   "source": [
    "# Given rank, numIterations and lambda compute the error of an ALS model\n",
    "def evaluateModel(rank, numIterations, lmbda):\n",
    "    # Load and parse the data\n",
    "    ratings = trainingSet.map(lambda l: Rating(l['userId'], l['movieId'], l['rating']))\n",
    "    testdata = validationSet.map(lambda l: (l['userId'], l['movieId']))\n",
    "    # Build the recommendation model using Alternating Least Squares\n",
    "    model = ALS.train(ratings, rank, numIterations, lmbda)\n",
    "\n",
    "    # Evaluate the model on training data\n",
    "    predictions = model.predictAll(testdata)\n",
    "    return errorTuples(predictions, comp)"
   ]
  },
  {
   "cell_type": "code",
   "execution_count": 24,
   "metadata": {},
   "outputs": [
    {
     "data": {
      "text/plain": [
       "0.4413545119704986"
      ]
     },
     "execution_count": 24,
     "metadata": {},
     "output_type": "execute_result"
    }
   ],
   "source": [
    "evaluateModel(15, 10, 10**-4)"
   ]
  },
  {
   "cell_type": "code",
   "execution_count": 25,
   "metadata": {},
   "outputs": [
    {
     "data": {
      "text/plain": [
       "1.661411397020553"
      ]
     },
     "execution_count": 25,
     "metadata": {},
     "output_type": "execute_result"
    }
   ],
   "source": [
    "evaluateModel(15, 10, 10.0)"
   ]
  },
  {
   "cell_type": "code",
   "execution_count": 26,
   "metadata": {},
   "outputs": [
    {
     "data": {
      "text/plain": [
       "0.35311527248883173"
      ]
     },
     "execution_count": 26,
     "metadata": {},
     "output_type": "execute_result"
    }
   ],
   "source": [
    "# Reasonably optimized parameters for the ALS model\n",
    "evaluateModel(15, 10, 0.08)"
   ]
  },
  {
   "cell_type": "markdown",
   "metadata": {},
   "source": [
    "The rank of ALS model heavily impacts the computation time of the model but allows a better fit of the model to the training data. A rank that is too high will result in overfitting and the accuracy of the predictions will fall. After trying a few different ranks for the model (starting at 5 incrementing by 5) we concluded that a rank of 15 provided good performance and a reasonable computation time. Increasing the rank to 20 barely reduced the RMSE (less than 0.001) but significantly increased computation time.\n",
    "\n",
    "Setting the regularization parameter to 10^4 or 10 does not produce very good predictions. A very small lambda has no effect on the computation and does not improve the predictions at all while a large regularizazion parameter has too much influence and results in very small values on every dimension of the model, resulting in very poor predictions."
   ]
  },
  {
   "cell_type": "markdown",
   "metadata": {},
   "source": [
    "## Exercise 3.9"
   ]
  },
  {
   "cell_type": "code",
   "execution_count": 27,
   "metadata": {},
   "outputs": [
    {
     "name": "stdout",
     "output_type": "stream",
     "text": [
      "{\"genres\": [\"(no genres listed)\"], \"movieId\": 131260, \"title\": \"Rentun Ruusu (2001)\"}\r\n",
      "{\"genres\": [\"Adventure\", \"Fantasy\", \"Horror\"], \"movieId\": 131262, \"title\": \"Innocence (2014)\"}\r\n"
     ]
    }
   ],
   "source": [
    "!hdfs dfs -cat /ix/ml-20m/movies.txt | tail -n 2"
   ]
  },
  {
   "cell_type": "code",
   "execution_count": 28,
   "metadata": {
    "collapsed": true
   },
   "outputs": [],
   "source": [
    "# Create the dict that maps movieId to title\n",
    "titleData = dict(sc.textFile(\"/ix/ml-20m/movies.txt\").map(json.loads).map(lambda x: (x['movieId'], x['title'])).collect())"
   ]
  },
  {
   "cell_type": "code",
   "execution_count": 29,
   "metadata": {},
   "outputs": [
    {
     "data": {
      "text/plain": [
       "'Toy Story (1995)'"
      ]
     },
     "execution_count": 29,
     "metadata": {},
     "output_type": "execute_result"
    }
   ],
   "source": [
    "titleData[1]"
   ]
  },
  {
   "cell_type": "code",
   "execution_count": 30,
   "metadata": {
    "collapsed": true
   },
   "outputs": [],
   "source": [
    "# Append the ratings of my-ratings.txt to the training set and create a model with the optimized parameters.\n",
    "# Recommend items to users 123 and 138494\n",
    "\n",
    "# Load and parse the data\n",
    "f = open(\"my-ratings.txt\")\n",
    "t = [(int(l.split(\" \")[3][:-1]), int(l.split(\" \")[1][:-1]), int(l.split(\" \")[7][:-2])) for l in f.readlines()]\n",
    "rdd = sc.parallelize(t).map(lambda x: Rating(x[0], x[1], x[2]))\n",
    "ratings = data.map(lambda l: Rating(l['userId'], l['movieId'], l['rating'])).union(rdd)\n",
    "# Build the recommendation model using Alternating Least Squares\n",
    "model = ALS.train(ratings, 15, 10, 0.085)\n",
    "\n",
    "# Evaluate the model on training data\n",
    "predictions = model.recommendProducts(123, 10)\n",
    "myPredictions = model.recommendProducts(138494, 10)"
   ]
  },
  {
   "cell_type": "code",
   "execution_count": 31,
   "metadata": {},
   "outputs": [
    {
     "name": "stdout",
     "output_type": "stream",
     "text": [
      "['Marihuana (1936)', 'Jim Jefferies: Alcoholocaust (2010)', 'Bill Hicks: Sane Man (1989)', 'Peppermint Soda (Diabolo menthe) (1977)', 'My Brother Tom (2001)', 'Autobiography of Miss Jane Pittman, The (1974)', 'My Life as McDull (Mak dau goo si) (2001)', 'Hannah Free (2009)', 'Siberian Education (Educazione siberiana) (2013)', 'I Belong (Som du ser meg) (2012)']\n"
     ]
    }
   ],
   "source": [
    "# Print the titles of the movies recommended to user 123\n",
    "titles = [titleData[x[1]] for x in predictions]\n",
    "print(titles)"
   ]
  },
  {
   "cell_type": "code",
   "execution_count": 32,
   "metadata": {},
   "outputs": [
    {
     "name": "stdout",
     "output_type": "stream",
     "text": [
      "['No Distance Left to Run (2010)', 'Mutant Aliens (2001)', 'Smashing Pumpkins: Vieuphoria (1994)', 'Drew: The Man Behind the Poster (2013)', 'Hellhounds on My Trail (1999)', \"Two of Us, The (Le vieil homme et l'enfant) (1967)\", 'Stingray Sam (2009)', 'Tom Segura: Completely Normal (2014)', 'Borrowers, The (2011)', 'Mater and the Ghostlight (2006)']\n"
     ]
    }
   ],
   "source": [
    "# Print the titles of the movies recommended to user 138494\n",
    "myTitles = [titleData[x[1]] for x in myPredictions]\n",
    "print(myTitles)"
   ]
  },
  {
   "cell_type": "markdown",
   "metadata": {},
   "source": [
    "## Exercise 3.10"
   ]
  },
  {
   "cell_type": "code",
   "execution_count": 33,
   "metadata": {
    "collapsed": true
   },
   "outputs": [],
   "source": [
    "# Open the pickle file that contains the selected movies\n",
    "with open(r\"selected-movies.pickle\", \"rb\") as input_file:\n",
    "    pickleFile = pickle.load(input_file, encoding='latin1')"
   ]
  },
  {
   "cell_type": "code",
   "execution_count": 34,
   "metadata": {
    "collapsed": true
   },
   "outputs": [],
   "source": [
    "# Create a set of the movieIds of the selected movies\n",
    "idSet = set()\n",
    "for c in pickleFile:\n",
    "    idSet.add(c[0])"
   ]
  },
  {
   "cell_type": "code",
   "execution_count": 35,
   "metadata": {
    "collapsed": true
   },
   "outputs": [],
   "source": [
    "# Create an ALS model of rank 2 with the optimized lambda parameter\n",
    "\n",
    "# Load and parse the data\n",
    "ratings = data.map(lambda l: Rating(l['userId'], l['movieId'], l['rating']))\n",
    "# Build the recommendation model using Alternating Least Squares\n",
    "model = ALS.train(ratings, 2, 10, 0.08)"
   ]
  },
  {
   "cell_type": "code",
   "execution_count": 36,
   "metadata": {
    "collapsed": true
   },
   "outputs": [],
   "source": [
    "# Sort the model's product features and the movies' titles by movieId\n",
    "features = sorted(model.productFeatures().filter(lambda x: x[0] in idSet).collect(), key=lambda x: x[0])\n",
    "details = sorted(pickleFile, key=lambda x: x[0])"
   ]
  },
  {
   "cell_type": "code",
   "execution_count": 37,
   "metadata": {
    "collapsed": true
   },
   "outputs": [],
   "source": [
    "# Prepare the bokeh plot using the sorted data\n",
    "\n",
    "source = ColumnDataSource(\n",
    "    data={\n",
    "        \"x\": [x[1][0] for x in features],\n",
    "        \"y\": [x[1][1] for x in features],\n",
    "        \"name\": [x[1] for x in details],\n",
    "    })\n",
    "hover = HoverTool(\n",
    "    tooltips=[\n",
    "        (\"Name\", \"@name\"),\n",
    "    ])\n",
    "tools = [hover, ResetTool(), PanTool(), WheelZoomTool(), SaveTool()]"
   ]
  },
  {
   "cell_type": "code",
   "execution_count": 38,
   "metadata": {
    "scrolled": false
   },
   "outputs": [
    {
     "data": {
      "text/html": [
       "\n",
       "<div class=\"bk-root\">\n",
       "    <div class=\"bk-plotdiv\" id=\"cd24c849-002b-4ff1-9372-f0399248931c\"></div>\n",
       "</div>"
      ]
     },
     "metadata": {},
     "output_type": "display_data"
    },
    {
     "data": {
      "application/javascript": [
       "(function(root) {\n",
       "  function embed_document(root) {\n",
       "    var docs_json = {\"2f76251b-fd68-46d3-9735-a40fd675d9ed\":{\"roots\":{\"references\":[{\"attributes\":{\"level\":\"glyph\",\"plot\":{\"id\":\"ad3c5a3a-1149-4a65-9a8d-13be1416d098\",\"subtype\":\"Figure\",\"type\":\"Plot\"},\"source\":{\"id\":\"63dac955-6bc8-4b81-9c1a-9f79702c2158\",\"type\":\"ColumnDataSource\"},\"text\":{\"field\":\"name\"},\"text_font_size\":{\"value\":\"7pt\"},\"x\":{\"field\":\"x\"},\"x_offset\":{\"value\":5},\"y\":{\"field\":\"y\"},\"y_offset\":{\"value\":5}},\"id\":\"f40a7427-b453-43d7-a51e-ef36c535084e\",\"type\":\"LabelSet\"},{\"attributes\":{\"formatter\":{\"id\":\"6e9d827e-d8a1-4d0f-bb85-257e22856810\",\"type\":\"BasicTickFormatter\"},\"plot\":{\"id\":\"ad3c5a3a-1149-4a65-9a8d-13be1416d098\",\"subtype\":\"Figure\",\"type\":\"Plot\"},\"ticker\":{\"id\":\"145e8a36-3592-44e8-9b2d-a3ad71df43b4\",\"type\":\"BasicTicker\"}},\"id\":\"6f38c781-7b23-4520-8fba-098367933a10\",\"type\":\"LinearAxis\"},{\"attributes\":{\"below\":[{\"id\":\"6f38c781-7b23-4520-8fba-098367933a10\",\"type\":\"LinearAxis\"}],\"left\":[{\"id\":\"8b315522-d5fc-4c6a-93ee-0f672a35fd66\",\"type\":\"LinearAxis\"}],\"plot_width\":960,\"renderers\":[{\"id\":\"6f38c781-7b23-4520-8fba-098367933a10\",\"type\":\"LinearAxis\"},{\"id\":\"8c8484d6-fb74-4785-82c6-fb3b9ef9c584\",\"type\":\"Grid\"},{\"id\":\"8b315522-d5fc-4c6a-93ee-0f672a35fd66\",\"type\":\"LinearAxis\"},{\"id\":\"eac99933-9051-41e1-8ac1-a238fbd7955e\",\"type\":\"Grid\"},{\"id\":\"90c9e516-4792-4e13-a08c-744a292a851c\",\"type\":\"GlyphRenderer\"},{\"id\":\"f40a7427-b453-43d7-a51e-ef36c535084e\",\"type\":\"LabelSet\"}],\"title\":{\"id\":\"b5b0df5f-d6bd-471b-8921-0dfc7b77fe30\",\"type\":\"Title\"},\"toolbar\":{\"id\":\"b605eba9-e542-4602-b2ed-5ecd9e02e4e2\",\"type\":\"Toolbar\"},\"x_range\":{\"id\":\"8ce74d77-afa2-46e7-b6f0-6fcbcf967453\",\"type\":\"DataRange1d\"},\"x_scale\":{\"id\":\"74d70d02-796e-4c26-a2b6-2030c30aac52\",\"type\":\"LinearScale\"},\"y_range\":{\"id\":\"af29bb7a-f921-4d9b-9a5d-064094c00599\",\"type\":\"DataRange1d\"},\"y_scale\":{\"id\":\"d6716956-c9ce-41a2-8f54-44bea5584076\",\"type\":\"LinearScale\"}},\"id\":\"ad3c5a3a-1149-4a65-9a8d-13be1416d098\",\"subtype\":\"Figure\",\"type\":\"Plot\"},{\"attributes\":{},\"id\":\"dbc17812-8b82-4488-b6db-db3a0c56c5e8\",\"type\":\"WheelZoomTool\"},{\"attributes\":{\"callback\":null,\"column_names\":[\"x\",\"y\",\"name\"],\"data\":{\"name\":[\"Star Wars: Episode IV - A New Hope (1977)\",\"Shawshank Redemption, The (1994)\",\"Forrest Gump (1994)\",\"Jurassic Park (1993)\",\"Schindler's List (1993)\",\"Independence Day (a.k.a. ID4) (1996)\",\"Time to Kill, A (1996)\",\"Brazil (1985)\",\"Terminator, The (1984)\",\"Life Is Beautiful (La Vita \\u00c3\\u00a8 bella) (1997)\",\"American History X (1998)\",\"Matrix, The (1999)\",\"American Pie (1999)\",\"American Beauty (1999)\",\"Fight Club (1999)\",\"Billy Elliot (2000)\",\"Accused, The (1988)\",\"Santa Sangre (1989)\",\"Princess Diaries, The (2001)\",\"Wild Strawberries (Smultronst\\u00c3\\u00a4llet) (1957)\",\"Stage Fright (Deliria) (1987)\",\"Spider-Man (2002)\",\"Take Care of My Cat (Goyangileul butaghae) (2001)\",\"City of God (Cidade de Deus) (2002)\",\"New York Ripper, The (Squartatore di New York, Lo) (1982)\",\"Videodrome (1983)\",\"Ichi the Killer (Koroshiya 1) (2001)\",\"Miss Congeniality 2: Armed and Fabulous (2005)\",\"Just My Luck (2006)\",\"Fountain, The (2006)\",\"Superbad (2007)\",\"Control (2007)\",\"Ghost Writer, The (2010)\",\"King's Speech, The (2010)\",\"Battleship (2012)\",\"Edge of Tomorrow (2014)\",\"Pride (2014)\"],\"x\":[-2.3195629119873047,-2.4588756561279297,-2.01600980758667,-1.76210355758667,-2.4495279788970947,-1.3421790599822998,-1.6865240335464478,-2.63930082321167,-2.1681439876556396,-2.3711376190185547,-2.4289796352386475,-2.3156893253326416,-1.5955350399017334,-2.5770680904388428,-2.557468891143799,-2.2428698539733887,-2.163398265838623,-2.5052053928375244,-1.1763426065444946,-2.735581636428833,-2.1511669158935547,-1.819887399673462,-2.5048794746398926,-2.65329909324646,-1.8553133010864258,-2.4315364360809326,-2.2690391540527344,-0.7213038206100464,-0.7490580081939697,-2.3042080402374268,-2.188927412033081,-2.4905858039855957,-2.2551252841949463,-2.2826249599456787,-0.9287034869194031,-2.0690343379974365,-2.571687936782837],\"y\":[1.4166804552078247,1.5064021348953247,1.67466402053833,1.6289126873016357,1.373705506324768,1.8882571458816528,1.7313170433044434,0.4905378222465515,1.3277907371520996,1.3577414751052856,1.2137558460235596,1.4296611547470093,1.581602692604065,0.9211580753326416,1.0731022357940674,1.1382014751434326,1.2228572368621826,0.06494665145874023,1.7992304563522339,0.3067518472671509,0.49663716554641724,1.5058069229125977,0.2544175088405609,0.8878048062324524,0.8147661089897156,0.4304453730583191,0.5537688732147217,1.7161370515823364,1.7959117889404297,0.7628784775733948,1.1634422540664673,0.6526708006858826,0.969859778881073,1.3194793462753296,1.7962219715118408,1.4521392583847046,0.7140786051750183]}},\"id\":\"63dac955-6bc8-4b81-9c1a-9f79702c2158\",\"type\":\"ColumnDataSource\"},{\"attributes\":{\"active_drag\":\"auto\",\"active_inspect\":\"auto\",\"active_scroll\":\"auto\",\"active_tap\":\"auto\",\"tools\":[{\"id\":\"51579b94-d2fa-4621-ac96-b320295220ba\",\"type\":\"HoverTool\"},{\"id\":\"719f4fe1-7279-4870-99f7-0482d72182e1\",\"type\":\"ResetTool\"},{\"id\":\"6d54fa09-1122-4119-bed5-102c234da8f4\",\"type\":\"PanTool\"},{\"id\":\"dbc17812-8b82-4488-b6db-db3a0c56c5e8\",\"type\":\"WheelZoomTool\"},{\"id\":\"d8422e14-44cc-41a5-ac79-bf1625db98b6\",\"type\":\"SaveTool\"}]},\"id\":\"b605eba9-e542-4602-b2ed-5ecd9e02e4e2\",\"type\":\"Toolbar\"},{\"attributes\":{},\"id\":\"86e958c6-f218-44f7-a775-efb3c6382b9b\",\"type\":\"BasicTicker\"},{\"attributes\":{\"fill_alpha\":{\"value\":0.1},\"fill_color\":{\"value\":\"#1f77b4\"},\"line_alpha\":{\"value\":0.1},\"line_color\":{\"value\":\"#1f77b4\"},\"size\":{\"units\":\"screen\",\"value\":15},\"x\":{\"field\":\"x\"},\"y\":{\"field\":\"y\"}},\"id\":\"f8d756ee-bad6-487c-b7c9-53a7403fb5e3\",\"type\":\"Circle\"},{\"attributes\":{},\"id\":\"d8422e14-44cc-41a5-ac79-bf1625db98b6\",\"type\":\"SaveTool\"},{\"attributes\":{},\"id\":\"6d54fa09-1122-4119-bed5-102c234da8f4\",\"type\":\"PanTool\"},{\"attributes\":{\"data_source\":{\"id\":\"63dac955-6bc8-4b81-9c1a-9f79702c2158\",\"type\":\"ColumnDataSource\"},\"glyph\":{\"id\":\"e741ba23-2f8a-42c0-8362-c5c82b576a76\",\"type\":\"Circle\"},\"hover_glyph\":null,\"muted_glyph\":null,\"nonselection_glyph\":{\"id\":\"f8d756ee-bad6-487c-b7c9-53a7403fb5e3\",\"type\":\"Circle\"},\"selection_glyph\":null,\"view\":{\"id\":\"3c51838c-e668-498d-88e8-4b5080592933\",\"type\":\"CDSView\"}},\"id\":\"90c9e516-4792-4e13-a08c-744a292a851c\",\"type\":\"GlyphRenderer\"},{\"attributes\":{\"fill_alpha\":{\"value\":0.5},\"fill_color\":{\"value\":\"#1f77b4\"},\"line_alpha\":{\"value\":0.5},\"line_color\":{\"value\":\"#1f77b4\"},\"size\":{\"units\":\"screen\",\"value\":15},\"x\":{\"field\":\"x\"},\"y\":{\"field\":\"y\"}},\"id\":\"e741ba23-2f8a-42c0-8362-c5c82b576a76\",\"type\":\"Circle\"},{\"attributes\":{\"callback\":null,\"tooltips\":[[\"Name\",\"@name\"]]},\"id\":\"51579b94-d2fa-4621-ac96-b320295220ba\",\"type\":\"HoverTool\"},{\"attributes\":{},\"id\":\"145e8a36-3592-44e8-9b2d-a3ad71df43b4\",\"type\":\"BasicTicker\"},{\"attributes\":{},\"id\":\"6e9d827e-d8a1-4d0f-bb85-257e22856810\",\"type\":\"BasicTickFormatter\"},{\"attributes\":{},\"id\":\"d6716956-c9ce-41a2-8f54-44bea5584076\",\"type\":\"LinearScale\"},{\"attributes\":{\"source\":{\"id\":\"63dac955-6bc8-4b81-9c1a-9f79702c2158\",\"type\":\"ColumnDataSource\"}},\"id\":\"3c51838c-e668-498d-88e8-4b5080592933\",\"type\":\"CDSView\"},{\"attributes\":{\"callback\":null},\"id\":\"8ce74d77-afa2-46e7-b6f0-6fcbcf967453\",\"type\":\"DataRange1d\"},{\"attributes\":{\"dimension\":1,\"plot\":{\"id\":\"ad3c5a3a-1149-4a65-9a8d-13be1416d098\",\"subtype\":\"Figure\",\"type\":\"Plot\"},\"ticker\":{\"id\":\"86e958c6-f218-44f7-a775-efb3c6382b9b\",\"type\":\"BasicTicker\"}},\"id\":\"eac99933-9051-41e1-8ac1-a238fbd7955e\",\"type\":\"Grid\"},{\"attributes\":{\"callback\":null},\"id\":\"af29bb7a-f921-4d9b-9a5d-064094c00599\",\"type\":\"DataRange1d\"},{\"attributes\":{},\"id\":\"719f4fe1-7279-4870-99f7-0482d72182e1\",\"type\":\"ResetTool\"},{\"attributes\":{\"plot\":null,\"text\":\"Selected movies in a two-dimensional model\"},\"id\":\"b5b0df5f-d6bd-471b-8921-0dfc7b77fe30\",\"type\":\"Title\"},{\"attributes\":{},\"id\":\"74d70d02-796e-4c26-a2b6-2030c30aac52\",\"type\":\"LinearScale\"},{\"attributes\":{\"plot\":{\"id\":\"ad3c5a3a-1149-4a65-9a8d-13be1416d098\",\"subtype\":\"Figure\",\"type\":\"Plot\"},\"ticker\":{\"id\":\"145e8a36-3592-44e8-9b2d-a3ad71df43b4\",\"type\":\"BasicTicker\"}},\"id\":\"8c8484d6-fb74-4785-82c6-fb3b9ef9c584\",\"type\":\"Grid\"},{\"attributes\":{\"formatter\":{\"id\":\"1981a768-89c9-4a26-a0f5-c7809725e97c\",\"type\":\"BasicTickFormatter\"},\"plot\":{\"id\":\"ad3c5a3a-1149-4a65-9a8d-13be1416d098\",\"subtype\":\"Figure\",\"type\":\"Plot\"},\"ticker\":{\"id\":\"86e958c6-f218-44f7-a775-efb3c6382b9b\",\"type\":\"BasicTicker\"}},\"id\":\"8b315522-d5fc-4c6a-93ee-0f672a35fd66\",\"type\":\"LinearAxis\"},{\"attributes\":{},\"id\":\"1981a768-89c9-4a26-a0f5-c7809725e97c\",\"type\":\"BasicTickFormatter\"}],\"root_ids\":[\"ad3c5a3a-1149-4a65-9a8d-13be1416d098\"]},\"title\":\"Bokeh Application\",\"version\":\"0.12.10\"}};\n",
       "    var render_items = [{\"docid\":\"2f76251b-fd68-46d3-9735-a40fd675d9ed\",\"elementid\":\"cd24c849-002b-4ff1-9372-f0399248931c\",\"modelid\":\"ad3c5a3a-1149-4a65-9a8d-13be1416d098\",\"notebook_comms_target\":\"0ba61dbc-d8dc-4b4c-96b4-4acf244098d7\"}];\n",
       "\n",
       "    root.Bokeh.embed.embed_items(docs_json, render_items);\n",
       "  }\n",
       "\n",
       "  if (root.Bokeh !== undefined) {\n",
       "    embed_document(root);\n",
       "  } else {\n",
       "    var attempts = 0;\n",
       "    var timer = setInterval(function(root) {\n",
       "      if (root.Bokeh !== undefined) {\n",
       "        embed_document(root);\n",
       "        clearInterval(timer);\n",
       "      }\n",
       "      attempts++;\n",
       "      if (attempts > 100) {\n",
       "        console.log(\"Bokeh: ERROR: Unable to embed document because BokehJS library is missing\")\n",
       "        clearInterval(timer);\n",
       "      }\n",
       "    }, 10, root)\n",
       "  }\n",
       "})(window);"
      ],
      "application/vnd.bokehjs_exec.v0+json": ""
     },
     "metadata": {
      "application/vnd.bokehjs_exec.v0+json": {
       "id": "ad3c5a3a-1149-4a65-9a8d-13be1416d098"
      }
     },
     "output_type": "display_data"
    },
    {
     "data": {
      "text/html": [
       "<p><code>&lt;Bokeh Notebook handle for <strong>In[38]</strong>&gt;</code></p>"
      ],
      "text/plain": [
       "<bokeh.io.notebook.CommsHandle at 0x7f7170dc23c8>"
      ]
     },
     "execution_count": 38,
     "metadata": {},
     "output_type": "execute_result"
    }
   ],
   "source": [
    "p = figure(plot_width=960, tools=tools)\n",
    "p.title.text = \"Selected movies in a two-dimensional model\"\n",
    "p.circle(\"x\", \"y\", source=source, size=15, alpha=0.5)\n",
    "labels = LabelSet(x='x', y='y', text='name', level='glyph', text_font_size=\"7pt\",\n",
    "              x_offset=5, y_offset=5, source=source, render_mode='canvas')\n",
    "p.add_layout(labels)\n",
    "show(p, notebook_handle=True)"
   ]
  },
  {
   "cell_type": "markdown",
   "metadata": {
    "collapsed": true
   },
   "source": [
    "It appears that the two dimensions are correlated with a higher x value indicating a lower y value.\n",
    "\n",
    "A label that could fit the x-axis is popularity. The movies that have a low value on the x-axis tend to be the most popular (matrix, star wars, shawshank redemption) while the movies that have a high value on the x-axis are either not very good or quite obscure. The y-axis is not as easy to define and could represent the budget of the film or the style of its production with higher values indicating a bigger budget and a blockbuster type of film while lower values would indicate a smaller budget and a focus on the artistic aspect of the movie rather than making its money back."
   ]
  },
  {
   "cell_type": "code",
   "execution_count": null,
   "metadata": {
    "collapsed": true
   },
   "outputs": [],
   "source": []
  }
 ],
 "metadata": {
  "anaconda-cloud": {},
  "kernelspec": {
   "display_name": "Python 3",
   "language": "python",
   "name": "python3"
  },
  "language_info": {
   "codemirror_mode": {
    "name": "ipython",
    "version": 3
   },
   "file_extension": ".py",
   "mimetype": "text/x-python",
   "name": "python",
   "nbconvert_exporter": "python",
   "pygments_lexer": "ipython3",
   "version": "3.6.3"
  }
 },
 "nbformat": 4,
 "nbformat_minor": 1
}
